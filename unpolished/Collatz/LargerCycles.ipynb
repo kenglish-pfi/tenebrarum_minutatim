{
 "cells": [
  {
   "cell_type": "markdown",
   "metadata": {},
   "source": [
    "# Larger Cycles\n",
    "\n",
    "## What happens when we make the cycle bigger, but keep the algebra the same?"
   ]
  },
  {
   "cell_type": "code",
   "execution_count": 3,
   "metadata": {},
   "outputs": [],
   "source": [
    "import numpy as np\n",
    "from fractions import Fraction"
   ]
  },
  {
   "cell_type": "code",
   "execution_count": 4,
   "metadata": {},
   "outputs": [],
   "source": [
    "# Why doesn't this work?\n",
    "def GenerationMatrix0():\n",
    "    return (\n",
    "        np.array([\n",
    "            [-3,2,0],\n",
    "            [0,-1,2],\n",
    "            [-1,0, 1],\n",
    "        ]),\n",
    "        np.array([1,0,0])\n",
    "           )\n",
    "\n",
    "def AddUpRow(equationTup):\n",
    "    print(equationTup)\n",
    "    d = len(equationTup[1]) + 1\n",
    "    R = (np.zeros((d,d)), np.zeros(d))\n",
    "    print((R[0])[1:d,1:d])\n",
    "    (R[0])[1:d,1:d] = equationTup[0]\n",
    "    (R[1])[1:] = equationTup[1]\n",
    "    (R[0])[0][0] = -1\n",
    "    (R[0])[0][1] = 2\n",
    "    (R[1])[0] = 0\n",
    "    return R\n",
    "\n",
    "def AddDownRow(equationTup):\n",
    "    d = len(equationTup[1]) + 1\n",
    "    R = (np.zeros((d,d)), np.zeros(d))\n",
    "    print((R[0])[1:d,1:d])\n",
    "    (R[0])[1:d,1:d] = equationTup[0]\n",
    "    (R[1])[1:] = equationTup[1]\n",
    "    (R[0])[0][0] = -3\n",
    "    (R[0])[0][1] = 2\n",
    "    (R[1])[0] = 0\n",
    "    return R\n",
    "\n",
    "def GenerationMatrices(g):\n",
    "    if g == 0:\n",
    "        A = GenerationMatrix0()\n",
    "        print(A)\n",
    "    else:\n",
    "        equationTups = GenerationMatrices(g-1)\n",
    "        A = AddUpRow(equationTup)\n",
    "        B = AddDownRow(equationTup)\n",
    "        print(A)\n",
    "        print(B)\n",
    "#            \n"
   ]
  },
  {
   "cell_type": "code",
   "execution_count": 9,
   "metadata": {},
   "outputs": [],
   "source": [
    "# Previous way:\n",
    "\n",
    "def int2bits(i):\n",
    "    bits = []\n",
    "    while i != 0:\n",
    "        bits.append(i & 1)\n",
    "        i = i>>1\n",
    "    return list(reversed(bits))\n",
    "#\n",
    "def genGeneratorMatrix(idx):\n",
    "    bits = int2bits(idx)\n",
    "    n = len(bits)\n",
    "    M = np.zeros((n+3, n+3))\n",
    "    C = np.zeros((n+3))\n",
    "    # Set the parts of the Matrix that never change\n",
    "    M[n][n], M[n][n+1],  C[n] = -3,2,   1\n",
    "    M[n+1][n+1], M[n+1][n+2],  C[n+1] = -1,2,   0\n",
    "    M[n+2][n], M[n+2][n+2],  C[n+2] =  1,-1,   0\n",
    "    for i in range(len(bits)):\n",
    "        pos = i\n",
    "        M[pos][pos+1] = 2\n",
    "        if bits[i] == 0:\n",
    "            M[pos][pos], C[pos]  = -1, 0\n",
    "        else:\n",
    "            M[pos][pos], C[pos]  = -3, 1\n",
    "    return M,C\n",
    "    \n",
    "def evalGenMatrixes(num):\n",
    "    for i in range(num):\n",
    "        M, C = genGeneratorMatrix(i)\n",
    "        d = np.linalg.det(M)\n",
    "        M.T[0] = C\n",
    "        d0 = np.linalg.det(M)\n",
    "        print(\"%d\\t%f\"%(i, d0/d))"
   ]
  },
  {
   "cell_type": "code",
   "execution_count": 12,
   "metadata": {},
   "outputs": [
    {
     "data": {
      "text/plain": [
       "[1, 1, 1, 1]"
      ]
     },
     "execution_count": 12,
     "metadata": {},
     "output_type": "execute_result"
    }
   ],
   "source": [
    "int2bits(15)"
   ]
  },
  {
   "cell_type": "code",
   "execution_count": 13,
   "metadata": {},
   "outputs": [
    {
     "name": "stdout",
     "output_type": "stream",
     "text": [
      "0\t1.000000\n",
      "1\t0.333333\n",
      "2\t1.000000\n",
      "3\t-0.111111\n",
      "4\t2.333333\n",
      "5\t0.111111\n",
      "6\t0.333333\n",
      "7\t-0.407407\n",
      "8\t5.000000\n",
      "9\t0.555556\n",
      "10\t1.000000\n",
      "11\t-0.481481\n",
      "12\t1.222222\n",
      "13\t-0.259259\n",
      "14\t-0.111111\n"
     ]
    }
   ],
   "source": [
    "evalGenMatrixes(15)"
   ]
  },
  {
   "cell_type": "code",
   "execution_count": null,
   "metadata": {},
   "outputs": [],
   "source": [
    "def int2bits(i):\n",
    "    bits = []\n",
    "    while i != 0:\n",
    "        bits.append(i & 1)\n",
    "        i = i>>1\n",
    "    return list(reversed(bits))\n",
    "#\n",
    "def genGenBits(cycle_size, to_rank_size):\n",
    "    # generate initial list of base matrices\n",
    "    bit_size = cycle_size -1\n",
    "    N = 2**rank_size -1\n",
    "    for i in range(N):\n",
    "        yield\n",
    "def genGeneratorMatrix(bits, cycle_size):\n",
    "    n = len(bits)\n",
    "    M = np.zeros((n+1, n+1))\n",
    "    C = np.zeros((n+1))\n",
    "    # Set the parts of the Matrix that never change\n",
    "    M[n][n], M[n][n+1],  C[n] = -3,2,   1\n",
    "    M[n+1][n+1], M[n+1][n+2],  C[n+1] = -1,2,   0\n",
    "    M[n+2][n], M[n+2][n+2],  C[n+2] =  1,-1,   0\n",
    "    for i in range(len(bits)):\n",
    "        pos = i\n",
    "        M[pos][pos+1] = 2\n",
    "        if bits[i] == 0:\n",
    "            M[pos][pos], C[pos]  = -1, 0\n",
    "        else:\n",
    "            M[pos][pos], C[pos]  = -3, 1\n",
    "    return M,C\n",
    "    \n",
    "def evalGenMatrixes(num):\n",
    "    for i in range(num):\n",
    "        M, C = genGeneratorMatrix(i)\n",
    "        d = np.linalg.det(M)\n",
    "        M.T[0] = C\n",
    "        d0 = np.linalg.det(M)\n",
    "        print(\"%d\\t%f\"%(i, d0/d))"
   ]
  }
 ],
 "metadata": {
  "kernelspec": {
   "display_name": "Python 3",
   "language": "python",
   "name": "python3"
  },
  "language_info": {
   "codemirror_mode": {
    "name": "ipython",
    "version": 3
   },
   "file_extension": ".py",
   "mimetype": "text/x-python",
   "name": "python",
   "nbconvert_exporter": "python",
   "pygments_lexer": "ipython3",
   "version": "3.8.5"
  }
 },
 "nbformat": 4,
 "nbformat_minor": 4
}
