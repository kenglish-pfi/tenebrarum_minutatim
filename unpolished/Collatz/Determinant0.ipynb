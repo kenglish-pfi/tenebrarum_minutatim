{
 "cells": [
  {
   "cell_type": "code",
   "execution_count": 2,
   "id": "hollow-morrison",
   "metadata": {},
   "outputs": [],
   "source": [
    "import numpy as np"
   ]
  },
  {
   "cell_type": "markdown",
   "id": "quarterly-scroll",
   "metadata": {},
   "source": [
    "# Generation 1"
   ]
  },
  {
   "cell_type": "code",
   "execution_count": 3,
   "id": "decent-herald",
   "metadata": {},
   "outputs": [],
   "source": [
    "M = np.array([\n",
    "        [-3,2,0],\n",
    "        [0,-1,2],\n",
    "        [1,0,-1]\n",
    "    ])"
   ]
  },
  {
   "cell_type": "code",
   "execution_count": 4,
   "id": "alternate-relay",
   "metadata": {},
   "outputs": [
    {
     "data": {
      "text/plain": [
       "0.9999999999999998"
      ]
     },
     "execution_count": 4,
     "metadata": {},
     "output_type": "execute_result"
    }
   ],
   "source": [
    "np.linalg.det(M)"
   ]
  },
  {
   "cell_type": "markdown",
   "id": "surface-physiology",
   "metadata": {},
   "source": [
    "# Generation 2"
   ]
  },
  {
   "cell_type": "code",
   "execution_count": 5,
   "id": "different-punishment",
   "metadata": {},
   "outputs": [
    {
     "data": {
      "text/plain": [
       "-2.9999999999999996"
      ]
     },
     "execution_count": 5,
     "metadata": {},
     "output_type": "execute_result"
    }
   ],
   "source": [
    "np.linalg.det(np.array([\n",
    "        [-3,2,0,0],\n",
    "        [0,-3,2,0],\n",
    "        [0,0,-1,2],\n",
    "        [0,1,0,-1]\n",
    "    ]))"
   ]
  },
  {
   "cell_type": "code",
   "execution_count": 6,
   "id": "brazilian-irrigation",
   "metadata": {},
   "outputs": [
    {
     "data": {
      "text/plain": [
       "-8.999999999999998"
      ]
     },
     "execution_count": 6,
     "metadata": {},
     "output_type": "execute_result"
    }
   ],
   "source": [
    "np.linalg.det(np.array([\n",
    "        [-3,2,0,0],\n",
    "        [0,-1,2,0],\n",
    "        [0,0,-1,2],\n",
    "        [0,1,0,-1]\n",
    "    ]))"
   ]
  },
  {
   "cell_type": "markdown",
   "id": "focused-silly",
   "metadata": {},
   "source": [
    "# Generation 3"
   ]
  },
  {
   "cell_type": "code",
   "execution_count": 7,
   "id": "square-tsunami",
   "metadata": {},
   "outputs": [
    {
     "data": {
      "text/plain": [
       "8.999999999999998"
      ]
     },
     "execution_count": 7,
     "metadata": {},
     "output_type": "execute_result"
    }
   ],
   "source": [
    "np.linalg.det(np.array([\n",
    "        [-3,2,0,0,0],\n",
    "        [0,-3,2,0,0],\n",
    "        [0,0,-3,2,0],\n",
    "        [0,0,0,-1,2],\n",
    "        [0,0,1,0,-1]\n",
    "    ]))"
   ]
  },
  {
   "cell_type": "code",
   "execution_count": 8,
   "id": "conventional-decimal",
   "metadata": {},
   "outputs": [
    {
     "data": {
      "text/plain": [
       "27.0"
      ]
     },
     "execution_count": 8,
     "metadata": {},
     "output_type": "execute_result"
    }
   ],
   "source": [
    "np.linalg.det(np.array([\n",
    "        [-3,2,0,0,0],\n",
    "        [0,-3,2,0,0],\n",
    "        [0,0,-1,2,0],\n",
    "        [0,0,0,-1,2],\n",
    "        [0,0,1,0,-1]\n",
    "    ]))"
   ]
  },
  {
   "cell_type": "code",
   "execution_count": 9,
   "id": "passive-ridge",
   "metadata": {},
   "outputs": [
    {
     "data": {
      "text/plain": [
       "2.9999999999999996"
      ]
     },
     "execution_count": 9,
     "metadata": {},
     "output_type": "execute_result"
    }
   ],
   "source": [
    "np.linalg.det(np.array([\n",
    "        [-3,2,0,0,0],\n",
    "        [0,-1,2,0,0],\n",
    "        [0,0,-3,2,0],\n",
    "        [0,0,0,-1,2],\n",
    "        [0,0,1,0,-1]\n",
    "    ]))"
   ]
  },
  {
   "cell_type": "code",
   "execution_count": 10,
   "id": "rocky-crest",
   "metadata": {},
   "outputs": [
    {
     "data": {
      "text/plain": [
       "8.999999999999998"
      ]
     },
     "execution_count": 10,
     "metadata": {},
     "output_type": "execute_result"
    }
   ],
   "source": [
    "np.linalg.det(np.array([\n",
    "        [-3,2,0,0,0],\n",
    "        [0,-1,2,0,0],\n",
    "        [0,0,-1,2,0],\n",
    "        [0,0,0,-1,2],\n",
    "        [0,0,1,0,-1]\n",
    "    ]))"
   ]
  },
  {
   "cell_type": "markdown",
   "id": "herbal-pittsburgh",
   "metadata": {},
   "source": [
    "# Generation 4"
   ]
  },
  {
   "cell_type": "code",
   "execution_count": 11,
   "id": "obvious-heaven",
   "metadata": {},
   "outputs": [
    {
     "data": {
      "text/plain": [
       "-27.0"
      ]
     },
     "execution_count": 11,
     "metadata": {},
     "output_type": "execute_result"
    }
   ],
   "source": [
    "np.linalg.det(np.array([\n",
    "        [-3,2,0,0,0,0],\n",
    "        [0,-3,2,0,0,0],\n",
    "        [0,0,-3,2,0,0],\n",
    "        [0,0,0,-3,2,0],\n",
    "        [0,0,0,0,-1,2],\n",
    "        [0,0,0,1,0,-1]\n",
    "    ]))"
   ]
  },
  {
   "cell_type": "code",
   "execution_count": 12,
   "id": "piano-gardening",
   "metadata": {},
   "outputs": [
    {
     "data": {
      "text/plain": [
       "-81.00000000000003"
      ]
     },
     "execution_count": 12,
     "metadata": {},
     "output_type": "execute_result"
    }
   ],
   "source": [
    "np.linalg.det(np.array([\n",
    "        [-3,2,0,0,0,0],\n",
    "        [0,-3,2,0,0,0],\n",
    "        [0,0,-3,2,0,0],\n",
    "        [0,0,0,-1,2,0],\n",
    "        [0,0,0,0,-1,2],\n",
    "        [0,0,0,1,0,-1]\n",
    "    ]))"
   ]
  },
  {
   "cell_type": "code",
   "execution_count": 13,
   "id": "interpreted-snapshot",
   "metadata": {},
   "outputs": [
    {
     "data": {
      "text/plain": [
       "-8.999999999999998"
      ]
     },
     "execution_count": 13,
     "metadata": {},
     "output_type": "execute_result"
    }
   ],
   "source": [
    "np.linalg.det(np.array([\n",
    "        [-3,2,0,0,0,0],\n",
    "        [0,-3,2,0,0,0],\n",
    "        [0,0,-1,2,0,0],\n",
    "        [0,0,0,-3,2,0],\n",
    "        [0,0,0,0,-1,2],\n",
    "        [0,0,0,1,0,-1]\n",
    "    ]))"
   ]
  },
  {
   "cell_type": "code",
   "execution_count": 14,
   "id": "complex-patch",
   "metadata": {},
   "outputs": [
    {
     "data": {
      "text/plain": [
       "-27.0"
      ]
     },
     "execution_count": 14,
     "metadata": {},
     "output_type": "execute_result"
    }
   ],
   "source": [
    "np.linalg.det(np.array([\n",
    "        [-3,2,0,0,0,0],\n",
    "        [0,-3,2,0,0,0],\n",
    "        [0,0,-1,2,0,0],\n",
    "        [0,0,0,-1,2,0],\n",
    "        [0,0,0,0,-1,2],\n",
    "        [0,0,0,1,0,-1]\n",
    "    ]))"
   ]
  },
  {
   "cell_type": "code",
   "execution_count": 15,
   "id": "communist-spare",
   "metadata": {},
   "outputs": [
    {
     "data": {
      "text/plain": [
       "-8.999999999999998"
      ]
     },
     "execution_count": 15,
     "metadata": {},
     "output_type": "execute_result"
    }
   ],
   "source": [
    "np.linalg.det(np.array([\n",
    "        [-3,2,0,0,0,0],\n",
    "        [0,-1,2,0,0,0],\n",
    "        [0,0,-3,2,0,0],\n",
    "        [0,0,0,-3,2,0],\n",
    "        [0,0,0,0,-1,2],\n",
    "        [0,0,0,1,0,-1]\n",
    "    ]))"
   ]
  },
  {
   "cell_type": "code",
   "execution_count": 16,
   "id": "restricted-guest",
   "metadata": {},
   "outputs": [
    {
     "data": {
      "text/plain": [
       "-27.0"
      ]
     },
     "execution_count": 16,
     "metadata": {},
     "output_type": "execute_result"
    }
   ],
   "source": [
    "np.linalg.det(np.array([\n",
    "        [-3,2,0,0,0,0],\n",
    "        [0,-1,2,0,0,0],\n",
    "        [0,0,-3,2,0,0],\n",
    "        [0,0,0,-1,2,0],\n",
    "        [0,0,0,0,-1,2],\n",
    "        [0,0,0,1,0,-1]\n",
    "    ]))"
   ]
  },
  {
   "cell_type": "code",
   "execution_count": 17,
   "id": "saved-opening",
   "metadata": {},
   "outputs": [
    {
     "data": {
      "text/plain": [
       "-2.9999999999999996"
      ]
     },
     "execution_count": 17,
     "metadata": {},
     "output_type": "execute_result"
    }
   ],
   "source": [
    "np.linalg.det(np.array([\n",
    "        [-3,2,0,0,0,0],\n",
    "        [0,-1,2,0,0,0],\n",
    "        [0,0,-1,2,0,0],\n",
    "        [0,0,0,-3,2,0],\n",
    "        [0,0,0,0,-1,2],\n",
    "        [0,0,0,1,0,-1]\n",
    "    ]))"
   ]
  },
  {
   "cell_type": "code",
   "execution_count": 18,
   "id": "charming-puppy",
   "metadata": {},
   "outputs": [
    {
     "data": {
      "text/plain": [
       "-8.999999999999998"
      ]
     },
     "execution_count": 18,
     "metadata": {},
     "output_type": "execute_result"
    }
   ],
   "source": [
    "np.linalg.det(np.array([\n",
    "        [-3,2,0,0,0,0],\n",
    "        [0,-1,2,0,0,0],\n",
    "        [0,0,-1,2,0,0],\n",
    "        [0,0,0,-1,2,0],\n",
    "        [0,0,0,0,-1,2],\n",
    "        [0,0,0,1,0,-1]\n",
    "    ]))"
   ]
  },
  {
   "cell_type": "markdown",
   "id": "front-plaza",
   "metadata": {},
   "source": [
    "# Attempting to solve for n, m, c, i\n",
    "\n",
    "We know for a given integer i, all of the following hold:\n",
    "  - 3<sup>0</sup>·3<sup>m</sup> · i + C<sub>n</sub> = 2<sup>0</sup>·2<sup>n</sup>\n",
    "  - 3<sup>1</sup>·3<sup>m</sup> · i + C<sub>n+2</sub> = 2<sup>2</sup>·2<sup>n</sup>\n",
    "  - 3<sup>2</sup>·3<sup>m</sup> · i + C<sub>n+4</sub> = 2<sup>4</sup>·2<sup>n</sup>\n",
    "  - :\n",
    "\n",
    "We also have the relationship between the C<sub>n</sub> :\n",
    "  - C<sub>n+2</sub> = 3·(C<sub>n</sub> - 2<sup>n</sup>) + 2<sup>n+2</sup>\n",
    "  - _or_\n",
    "  - 0  + 3·C<sub>n</sub> - C<sub>n+2</sub>  = (3 - 2<sup>2</sup>)·2<sup>n</sup>\n",
    "  - 0  + 3·C<sub>n</sub> - C<sub>n+2</sub>  = - 2<sup>n</sup>\n",
    "\n",
    "\n",
    "Det(A) is zero ... but we knew this right ... underdetermined since all we have done is define the same number in non-obvious ways.\n"
   ]
  },
  {
   "cell_type": "code",
   "execution_count": 41,
   "id": "clinical-sample",
   "metadata": {},
   "outputs": [
    {
     "data": {
      "text/plain": [
       "-3.330669073875464e-16"
      ]
     },
     "execution_count": 41,
     "metadata": {},
     "output_type": "execute_result"
    }
   ],
   "source": [
    "# [ i · 3^m, C_n, C_n+2, C_n+4 ]\n",
    "A = np.array([\n",
    "        [ 1,  1,  0,  0],\n",
    "        [ 3,  0,  1,  0],\n",
    "        [ 9,  0,  0,  1],\n",
    "        [ 0,  3,  2, -1]\n",
    "    ])\n",
    "# 2^n factored out:\n",
    "V = np.array([1, 4, 16, -2])\n",
    "D_d = np.linalg.det(A)\n",
    "D_d"
   ]
  },
  {
   "cell_type": "markdown",
   "id": "acting-mixture",
   "metadata": {},
   "source": [
    "## ?  Knowing that the solution is wide open doesn't really help ... does it?  "
   ]
  },
  {
   "cell_type": "code",
   "execution_count": null,
   "id": "later-fifteen",
   "metadata": {},
   "outputs": [],
   "source": []
  }
 ],
 "metadata": {
  "kernelspec": {
   "display_name": "Python 3",
   "language": "python",
   "name": "python3"
  },
  "language_info": {
   "codemirror_mode": {
    "name": "ipython",
    "version": 3
   },
   "file_extension": ".py",
   "mimetype": "text/x-python",
   "name": "python",
   "nbconvert_exporter": "python",
   "pygments_lexer": "ipython3",
   "version": "3.7.9"
  }
 },
 "nbformat": 4,
 "nbformat_minor": 5
}
