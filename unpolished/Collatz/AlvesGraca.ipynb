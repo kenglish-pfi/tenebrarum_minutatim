{
 "cells": [
  {
   "cell_type": "markdown",
   "id": "needed-scanner",
   "metadata": {},
   "source": [
    "# Notebook translation of J.F. Alves, M.M. Graça, M.E. Sousa Dias , J. Sousa Ramos \"A linear algebra approach to the conjecture of Collatz\""
   ]
  },
  {
   "attachments": {
    "image.png": {
     "image/png": "[encoded data removed]"
    }
   },
   "cell_type": "markdown",
   "id": "spatial-belize",
   "metadata": {},
   "source": [
    "![image.png](attachment:image.png)"
   ]
  },
  {
   "attachments": {
    "image.png": {
     "image/png": "[encoded data removed]"
    }
   },
   "cell_type": "markdown",
   "id": "fluid-campus",
   "metadata": {},
   "source": [
    "![image.png](attachment:image.png)"
   ]
  },
  {
   "cell_type": "code",
   "execution_count": 7,
   "id": "capital-opposition",
   "metadata": {},
   "outputs": [],
   "source": [
    "import math\n",
    "import numpy as np"
   ]
  },
  {
   "cell_type": "code",
   "execution_count": 2,
   "id": "greatest-preliminary",
   "metadata": {},
   "outputs": [],
   "source": [
    "def f(n):\n",
    "    if n & 1 == 0:\n",
    "        return n//2\n",
    "    else:\n",
    "        return (3*n + 1)//2"
   ]
  },
  {
   "cell_type": "code",
   "execution_count": 10,
   "id": "fatty-model",
   "metadata": {},
   "outputs": [],
   "source": [
    "def A_m(M):\n",
    "    A = np.zeros((M,M))\n",
    "    for i in range(M):\n",
    "        for j in range(M):\n",
    "            if i == j:\n",
    "                A[i,j] = 1\n",
    "            elif f(i+1) == j+1:\n",
    "                A[i,j] = math.sqrt(2.0)\n",
    "    return A\n",
    "#"
   ]
  },
  {
   "cell_type": "code",
   "execution_count": 11,
   "id": "closed-sellers",
   "metadata": {},
   "outputs": [
    {
     "name": "stdout",
     "output_type": "stream",
     "text": [
      "[[1.         1.41421356]\n",
      " [1.41421356 1.        ]]\n",
      "Det=-1.0000000000000002\n",
      "[[1.         1.41421356 0.        ]\n",
      " [1.41421356 1.         0.        ]\n",
      " [0.         0.         1.        ]]\n",
      "Det=-1.0000000000000002\n",
      "[[1.         1.41421356 0.         0.        ]\n",
      " [1.41421356 1.         0.         0.        ]\n",
      " [0.         0.         1.         0.        ]\n",
      " [0.         1.41421356 0.         1.        ]]\n",
      "Det=-1.0000000000000004\n",
      "[[1.         1.41421356 0.         0.         0.        ]\n",
      " [1.41421356 1.         0.         0.         0.        ]\n",
      " [0.         0.         1.         0.         1.41421356]\n",
      " [0.         1.41421356 0.         1.         0.        ]\n",
      " [0.         0.         0.         0.         1.        ]]\n",
      "Det=-1.0000000000000004\n",
      "[[1.         1.41421356 0.         0.         0.         0.        ]\n",
      " [1.41421356 1.         0.         0.         0.         0.        ]\n",
      " [0.         0.         1.         0.         1.41421356 0.        ]\n",
      " [0.         1.41421356 0.         1.         0.         0.        ]\n",
      " [0.         0.         0.         0.         1.         0.        ]\n",
      " [0.         0.         1.41421356 0.         0.         1.        ]]\n",
      "Det=-1.0000000000000002\n",
      "[[1.         1.41421356 0.         0.         0.         0.\n",
      "  0.        ]\n",
      " [1.41421356 1.         0.         0.         0.         0.\n",
      "  0.        ]\n",
      " [0.         0.         1.         0.         1.41421356 0.\n",
      "  0.        ]\n",
      " [0.         1.41421356 0.         1.         0.         0.\n",
      "  0.        ]\n",
      " [0.         0.         0.         0.         1.         0.\n",
      "  0.        ]\n",
      " [0.         0.         1.41421356 0.         0.         1.\n",
      "  0.        ]\n",
      " [0.         0.         0.         0.         0.         0.\n",
      "  1.        ]]\n",
      "Det=-1.0000000000000002\n",
      "[[1.         1.41421356 0.         0.         0.         0.\n",
      "  0.         0.        ]\n",
      " [1.41421356 1.         0.         0.         0.         0.\n",
      "  0.         0.        ]\n",
      " [0.         0.         1.         0.         1.41421356 0.\n",
      "  0.         0.        ]\n",
      " [0.         1.41421356 0.         1.         0.         0.\n",
      "  0.         0.        ]\n",
      " [0.         0.         0.         0.         1.         0.\n",
      "  0.         1.41421356]\n",
      " [0.         0.         1.41421356 0.         0.         1.\n",
      "  0.         0.        ]\n",
      " [0.         0.         0.         0.         0.         0.\n",
      "  1.         0.        ]\n",
      " [0.         0.         0.         1.41421356 0.         0.\n",
      "  0.         1.        ]]\n",
      "Det=-1.0000000000000002\n",
      "[[1.         1.41421356 0.         0.         0.         0.\n",
      "  0.         0.         0.        ]\n",
      " [1.41421356 1.         0.         0.         0.         0.\n",
      "  0.         0.         0.        ]\n",
      " [0.         0.         1.         0.         1.41421356 0.\n",
      "  0.         0.         0.        ]\n",
      " [0.         1.41421356 0.         1.         0.         0.\n",
      "  0.         0.         0.        ]\n",
      " [0.         0.         0.         0.         1.         0.\n",
      "  0.         1.41421356 0.        ]\n",
      " [0.         0.         1.41421356 0.         0.         1.\n",
      "  0.         0.         0.        ]\n",
      " [0.         0.         0.         0.         0.         0.\n",
      "  1.         0.         0.        ]\n",
      " [0.         0.         0.         1.41421356 0.         0.\n",
      "  0.         1.         0.        ]\n",
      " [0.         0.         0.         0.         0.         0.\n",
      "  0.         0.         1.        ]]\n",
      "Det=-1.0000000000000002\n",
      "[[1.         1.41421356 0.         0.         0.         0.\n",
      "  0.         0.         0.         0.        ]\n",
      " [1.41421356 1.         0.         0.         0.         0.\n",
      "  0.         0.         0.         0.        ]\n",
      " [0.         0.         1.         0.         1.41421356 0.\n",
      "  0.         0.         0.         0.        ]\n",
      " [0.         1.41421356 0.         1.         0.         0.\n",
      "  0.         0.         0.         0.        ]\n",
      " [0.         0.         0.         0.         1.         0.\n",
      "  0.         1.41421356 0.         0.        ]\n",
      " [0.         0.         1.41421356 0.         0.         1.\n",
      "  0.         0.         0.         0.        ]\n",
      " [0.         0.         0.         0.         0.         0.\n",
      "  1.         0.         0.         0.        ]\n",
      " [0.         0.         0.         1.41421356 0.         0.\n",
      "  0.         1.         0.         0.        ]\n",
      " [0.         0.         0.         0.         0.         0.\n",
      "  0.         0.         1.         0.        ]\n",
      " [0.         0.         0.         0.         1.41421356 0.\n",
      "  0.         0.         0.         1.        ]]\n",
      "Det=-1.0000000000000002\n",
      "[[1.         1.41421356 0.         0.         0.         0.\n",
      "  0.         0.         0.         0.         0.        ]\n",
      " [1.41421356 1.         0.         0.         0.         0.\n",
      "  0.         0.         0.         0.         0.        ]\n",
      " [0.         0.         1.         0.         1.41421356 0.\n",
      "  0.         0.         0.         0.         0.        ]\n",
      " [0.         1.41421356 0.         1.         0.         0.\n",
      "  0.         0.         0.         0.         0.        ]\n",
      " [0.         0.         0.         0.         1.         0.\n",
      "  0.         1.41421356 0.         0.         0.        ]\n",
      " [0.         0.         1.41421356 0.         0.         1.\n",
      "  0.         0.         0.         0.         0.        ]\n",
      " [0.         0.         0.         0.         0.         0.\n",
      "  1.         0.         0.         0.         1.41421356]\n",
      " [0.         0.         0.         1.41421356 0.         0.\n",
      "  0.         1.         0.         0.         0.        ]\n",
      " [0.         0.         0.         0.         0.         0.\n",
      "  0.         0.         1.         0.         0.        ]\n",
      " [0.         0.         0.         0.         1.41421356 0.\n",
      "  0.         0.         0.         1.         0.        ]\n",
      " [0.         0.         0.         0.         0.         0.\n",
      "  0.         0.         0.         0.         1.        ]]\n",
      "Det=-1.0000000000000002\n"
     ]
    }
   ],
   "source": [
    "for m in range(2,12):\n",
    "    A = A_m(m)\n",
    "    print(A)\n",
    "    print(\"Det=\"+str(np.linalg.det(A)))"
   ]
  },
  {
   "cell_type": "code",
   "execution_count": null,
   "id": "final-auckland",
   "metadata": {},
   "outputs": [],
   "source": []
  }
 ],
 "metadata": {
  "kernelspec": {
   "display_name": "Python 3",
   "language": "python",
   "name": "python3"
  },
  "language_info": {
   "codemirror_mode": {
    "name": "ipython",
    "version": 3
   },
   "file_extension": ".py",
   "mimetype": "text/x-python",
   "name": "python",
   "nbconvert_exporter": "python",
   "pygments_lexer": "ipython3",
   "version": "3.7.9"
  }
 },
 "nbformat": 4,
 "nbformat_minor": 5
}
