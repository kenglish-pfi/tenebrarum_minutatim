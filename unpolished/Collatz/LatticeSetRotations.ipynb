{
 "cells": [
  {
   "cell_type": "markdown",
   "id": "dcb747c5",
   "metadata": {},
   "source": [
    "# Lattice solutions come in sets\n",
    "\n",
    "As labels rotate there must be corresponding linear functions to transform the state vectors of the nodes.  The product of all rotation matrices must be the unit-matrix.  We know the denominator terms do not change, so the middle 2 diagonals are always 1.\n",
    "\n",
    "Lets look at some examples"
   ]
  },
  {
   "cell_type": "code",
   "execution_count": 27,
   "id": "be927c21",
   "metadata": {},
   "outputs": [],
   "source": [
    "import CollatzNDLattice.generator as gen\n",
    "from functools import reduce\n",
    "import numpy as np\n"
   ]
  },
  {
   "cell_type": "code",
   "execution_count": 23,
   "id": "b14fcccc",
   "metadata": {},
   "outputs": [],
   "source": [
    "def factors(n):    \n",
    "    return set(reduce(list.__add__, \n",
    "                ([i, n//i] for i in range(1, int(n**0.5) + 1) if n % i == 0)))\n",
    "\n",
    "v_factors = np.vectorize(factors)"
   ]
  },
  {
   "cell_type": "code",
   "execution_count": null,
   "id": "8c0fb47f",
   "metadata": {},
   "outputs": [],
   "source": []
  },
  {
   "cell_type": "code",
   "execution_count": 10,
   "id": "d8749431",
   "metadata": {},
   "outputs": [
    {
     "data": {
      "text/plain": [
       "[array([ 38, -27,  16, -54]),\n",
       " array([ 29, -27,  16, -45]),\n",
       " array([ 23, -27,  16, -39]),\n",
       " array([ 19, -27,  16, -35])]"
      ]
     },
     "execution_count": 10,
     "metadata": {},
     "output_type": "execute_result"
    }
   ],
   "source": [
    "## The _0111 set of four:  _0111, _1011, _1101, _1110\n",
    "\n",
    "[\n",
    "    gen.NodeRoot().forward(0).forward(1).forward(1).forward(1).vec,\n",
    "    gen.NodeRoot().forward(1).forward(0).forward(1).forward(1).vec,\n",
    "    gen.NodeRoot().forward(1).forward(1).forward(0).forward(1).vec,\n",
    "    gen.NodeRoot().forward(1).forward(1).forward(1).forward(0).vec\n",
    "]"
   ]
  },
  {
   "cell_type": "markdown",
   "id": "ffa49575",
   "metadata": {},
   "source": [
    "## Note: $n + t = -16$ for all four vectors"
   ]
  },
  {
   "cell_type": "markdown",
   "id": "60a660d8",
   "metadata": {},
   "source": [
    "## Lattice paths\n",
    "\n",
    "  - \\_0111, \\_011, \\_01, \\_0, \\_, \\_1, \\_10, \\_101, \\_1011\n",
    "  - \\_1011, \\_101, \\_10, \\_1, \\_11, \\_110, \\_1101\n",
    "  - \\_1101, \\_110, \\_11, \\_111, \\_1110\n",
    "  - \\_1110, \\_111, \\_11, \\_1, \\_, \\_0, \\_01, \\_011, \\_0111"
   ]
  },
  {
   "cell_type": "code",
   "execution_count": 8,
   "id": "b4f0664f",
   "metadata": {},
   "outputs": [
    {
     "data": {
      "text/plain": [
       "array([ 29., -27.,  16., -45.])"
      ]
     },
     "execution_count": 8,
     "metadata": {},
     "output_type": "execute_result"
    }
   ],
   "source": [
    "T = np.array([[1,1.0/3,0,0],[0,1,0,0],[0,0,1,0],[0,-1.0/3,0,1]])\n",
    "np.inner(T, gen.NodeRoot().forward(0).forward(1).forward(1).forward(1).vec)"
   ]
  },
  {
   "cell_type": "code",
   "execution_count": 9,
   "id": "cdd4f599",
   "metadata": {},
   "outputs": [
    {
     "data": {
      "text/plain": [
       "array([ 20., -27.,  16., -36.])"
      ]
     },
     "execution_count": 9,
     "metadata": {},
     "output_type": "execute_result"
    }
   ],
   "source": [
    "T = np.array([[1,1.0/3,0,0],[0,1,0,0],[0,0,1,0],[0,-1.0/3,0,1]])\n",
    "np.inner(T, gen.NodeRoot().forward(1).forward(0).forward(1).forward(1).vec)"
   ]
  },
  {
   "cell_type": "code",
   "execution_count": null,
   "id": "fd29f918",
   "metadata": {},
   "outputs": [],
   "source": []
  },
  {
   "cell_type": "code",
   "execution_count": 11,
   "id": "5848dfa7",
   "metadata": {},
   "outputs": [
    {
     "data": {
      "text/plain": [
       "[array([  8,  -3,  16, -24]),\n",
       " array([  4,  -3,  16, -20]),\n",
       " array([  2,  -3,  16, -18]),\n",
       " array([  1,  -3,  16, -17])]"
      ]
     },
     "execution_count": 11,
     "metadata": {},
     "output_type": "execute_result"
    }
   ],
   "source": [
    "## The _0001 set of four:  _0001, _0010, _0100, _1000\n",
    "\n",
    "[\n",
    "    gen.NodeRoot().forward(0).forward(0).forward(0).forward(1).vec,\n",
    "    gen.NodeRoot().forward(0).forward(0).forward(1).forward(0).vec,\n",
    "    gen.NodeRoot().forward(0).forward(1).forward(0).forward(0).vec,\n",
    "    gen.NodeRoot().forward(1).forward(0).forward(0).forward(0).vec\n",
    "]"
   ]
  },
  {
   "cell_type": "markdown",
   "id": "268726c2",
   "metadata": {},
   "source": [
    "## Again Note: $n + t = -16$ for all four vectors"
   ]
  },
  {
   "cell_type": "code",
   "execution_count": 15,
   "id": "6398603a",
   "metadata": {},
   "outputs": [
    {
     "data": {
      "text/plain": [
       "[array([ 20,  -9,  16, -36]),\n",
       " array([ 10,  -9,  16, -26]),\n",
       " array([  5,  -9,  16, -21]),\n",
       " array([ 11,  -9,  16, -27])]"
      ]
     },
     "execution_count": 15,
     "metadata": {},
     "output_type": "execute_result"
    }
   ],
   "source": [
    "## The _0011 set of four:  _0011, _0110, _1001, _1100\n",
    "\n",
    "[\n",
    "    gen.NodeRoot().forward(0).forward(0).forward(1).forward(1).vec,\n",
    "    gen.NodeRoot().forward(0).forward(1).forward(1).forward(0).vec,\n",
    "    gen.NodeRoot().forward(1).forward(1).forward(0).forward(0).vec,\n",
    "    gen.NodeRoot().forward(1).forward(0).forward(0).forward(1).vec\n",
    "]"
   ]
  },
  {
   "cell_type": "markdown",
   "id": "d78578ec",
   "metadata": {},
   "source": [
    "## Again Note: $n + t = -16$ for all four vectors"
   ]
  },
  {
   "cell_type": "code",
   "execution_count": 13,
   "id": "0b119f7c",
   "metadata": {},
   "outputs": [
    {
     "data": {
      "text/plain": [
       "[array([ 32,  -3,  64, -96]),\n",
       " array([ 16,  -3,  64, -80]),\n",
       " array([  8,  -3,  64, -72]),\n",
       " array([  4,  -3,  64, -68]),\n",
       " array([  2,  -3,  64, -66]),\n",
       " array([  1,  -3,  64, -65])]"
      ]
     },
     "execution_count": 13,
     "metadata": {},
     "output_type": "execute_result"
    }
   ],
   "source": [
    "## The _000001 set of six\n",
    "\n",
    "[\n",
    "    gen.NodeRoot().forward(0).forward(0).forward(0).forward(0).forward(0).forward(1).vec,\n",
    "    gen.NodeRoot().forward(0).forward(0).forward(0).forward(0).forward(1).forward(0).vec,\n",
    "    gen.NodeRoot().forward(0).forward(0).forward(0).forward(1).forward(0).forward(0).vec,\n",
    "    gen.NodeRoot().forward(0).forward(0).forward(1).forward(0).forward(0).forward(0).vec,\n",
    "    gen.NodeRoot().forward(0).forward(1).forward(0).forward(0).forward(0).forward(0).vec,\n",
    "    gen.NodeRoot().forward(1).forward(0).forward(0).forward(0).forward(0).forward(0).vec\n",
    "    \n",
    "]"
   ]
  },
  {
   "cell_type": "code",
   "execution_count": null,
   "id": "2a6a714d",
   "metadata": {},
   "outputs": [],
   "source": [
    "# Rank 7:  n+t = -64 !  And the n sequence follows the same 2^j pattern as Rank 5 _0001 set !"
   ]
  },
  {
   "cell_type": "code",
   "execution_count": 14,
   "id": "50b4d5e7",
   "metadata": {},
   "outputs": [
    {
     "data": {
      "text/plain": [
       "[array([  80,   -9,   64, -144]),\n",
       " array([  40,   -9,   64, -104]),\n",
       " array([ 20,  -9,  64, -84]),\n",
       " array([ 10,  -9,  64, -74]),\n",
       " array([  5,  -9,  64, -69]),\n",
       " array([ 35,  -9,  64, -99])]"
      ]
     },
     "execution_count": 14,
     "metadata": {},
     "output_type": "execute_result"
    }
   ],
   "source": [
    "## The _000011 set of six\n",
    "\n",
    "[\n",
    "    gen.NodeRoot().forward(0).forward(0).forward(0).forward(0).forward(1).forward(1).vec,\n",
    "    gen.NodeRoot().forward(0).forward(0).forward(0).forward(1).forward(1).forward(0).vec,\n",
    "    gen.NodeRoot().forward(0).forward(0).forward(1).forward(1).forward(0).forward(0).vec,\n",
    "    gen.NodeRoot().forward(0).forward(1).forward(1).forward(0).forward(0).forward(0).vec,\n",
    "    gen.NodeRoot().forward(1).forward(1).forward(0).forward(0).forward(0).forward(0).vec,\n",
    "    gen.NodeRoot().forward(1).forward(0).forward(0).forward(0).forward(0).forward(1).vec\n",
    "    \n",
    "]"
   ]
  },
  {
   "cell_type": "code",
   "execution_count": null,
   "id": "bdbf0d62",
   "metadata": {},
   "outputs": [],
   "source": [
    "# The equations within the cycles are very orderly and very much related to the bit patterns!"
   ]
  },
  {
   "cell_type": "code",
   "execution_count": 16,
   "id": "ca498ef8",
   "metadata": {},
   "outputs": [
    {
     "data": {
      "text/plain": [
       "[array([  65,  -81,   64, -129]),\n",
       " array([  89,  -81,   64, -153]),\n",
       " array([ 125,  -81,   64, -189]),\n",
       " array([ 179,  -81,   64, -243]),\n",
       " array([ 260,  -81,   64, -324]),\n",
       " array([ 130,  -81,   64, -194])]"
      ]
     },
     "execution_count": 16,
     "metadata": {},
     "output_type": "execute_result"
    }
   ],
   "source": [
    "## The _111100 set of six\n",
    "\n",
    "[\n",
    "    gen.NodeRoot().forward(1).forward(1).forward(1).forward(1).forward(0).forward(0).vec,\n",
    "    gen.NodeRoot().forward(1).forward(1).forward(1).forward(0).forward(0).forward(1).vec,\n",
    "    gen.NodeRoot().forward(1).forward(1).forward(0).forward(0).forward(1).forward(1).vec,\n",
    "    gen.NodeRoot().forward(1).forward(0).forward(0).forward(1).forward(1).forward(1).vec,\n",
    "    gen.NodeRoot().forward(0).forward(0).forward(1).forward(1).forward(1).forward(1).vec,\n",
    "    gen.NodeRoot().forward(0).forward(1).forward(1).forward(1).forward(1).forward(0).vec\n",
    "    \n",
    "]"
   ]
  },
  {
   "cell_type": "code",
   "execution_count": 28,
   "id": "35520272",
   "metadata": {},
   "outputs": [
    {
     "data": {
      "text/plain": [
       "array([{65, 1, 13, 5}, {89, 1}, {1, 5, 125, 25}, {1, 179},\n",
       "       {1, 2, 130, 260, 4, 65, 5, 10, 13, 52, 20, 26},\n",
       "       {65, 1, 130, 2, 5, 10, 13, 26}], dtype=object)"
      ]
     },
     "execution_count": 28,
     "metadata": {},
     "output_type": "execute_result"
    }
   ],
   "source": [
    "v_factors(np.array([65,89,125,179,260,130]))"
   ]
  },
  {
   "cell_type": "code",
   "execution_count": 30,
   "id": "dd321870",
   "metadata": {},
   "outputs": [
    {
     "data": {
      "text/plain": [
       "array([  0,  24,  60, 114, 195,  65])"
      ]
     },
     "execution_count": 30,
     "metadata": {},
     "output_type": "execute_result"
    }
   ],
   "source": [
    "np.array([65,89,125,179,260,130]) - 65"
   ]
  },
  {
   "cell_type": "code",
   "execution_count": 32,
   "id": "2431981b",
   "metadata": {},
   "outputs": [
    {
     "data": {
      "text/plain": [
       "array([ 0. , 12. , 30. , 57. , 97.5, 32.5])"
      ]
     },
     "execution_count": 32,
     "metadata": {},
     "output_type": "execute_result"
    }
   ],
   "source": [
    "(np.array([65,89,125,179,260,130]) - 65)/2\n"
   ]
  },
  {
   "cell_type": "code",
   "execution_count": 38,
   "id": "073fcdc3",
   "metadata": {},
   "outputs": [
    {
     "data": {
      "text/plain": [
       "[array([ 116,  -27,   64, -180]),\n",
       " array([  58,  -27,   64, -122]),\n",
       " array([ 29, -27,  64, -93]),\n",
       " array([  62,  -27,   64, -126]),\n",
       " array([ 31, -27,  64, -95]),\n",
       " array([  65,  -27,   64, -129])]"
      ]
     },
     "execution_count": 38,
     "metadata": {},
     "output_type": "execute_result"
    }
   ],
   "source": [
    "## The _001011 set of six\n",
    "\n",
    "[\n",
    "    gen.NodeRoot().forward(0).forward(0).forward(1).forward(0).forward(1).forward(1).vec,\n",
    "    gen.NodeRoot().forward(0).forward(1).forward(0).forward(1).forward(1).forward(0).vec,\n",
    "    gen.NodeRoot().forward(1).forward(0).forward(1).forward(1).forward(0).forward(0).vec,\n",
    "    \n",
    "    gen.NodeRoot().forward(0).forward(1).forward(1).forward(0).forward(0).forward(1).vec,\n",
    "    gen.NodeRoot().forward(1).forward(1).forward(0).forward(0).forward(1).forward(0).vec,\n",
    "    \n",
    "    gen.NodeRoot().forward(1).forward(0).forward(0).forward(1).forward(0).forward(1).vec\n",
    "    \n",
    "]"
   ]
  },
  {
   "cell_type": "code",
   "execution_count": 43,
   "id": "09f36931",
   "metadata": {},
   "outputs": [
    {
     "data": {
      "text/plain": [
       "[array([  92,  -27,   64, -156]),\n",
       " array([  46,  -27,   64, -110]),\n",
       " array([ 23, -27,  64, -87]),\n",
       " array([  98,  -27,   64, -162]),\n",
       " array([  49,  -27,   64, -113]),\n",
       " array([  53,  -27,   64, -117])]"
      ]
     },
     "execution_count": 43,
     "metadata": {},
     "output_type": "execute_result"
    }
   ],
   "source": [
    "## The _110100 set of six\n",
    "\n",
    "[\n",
    "    gen.NodeRoot().forward(0).forward(0).forward(1).forward(1).forward(0).forward(1).vec,\n",
    "    gen.NodeRoot().forward(0).forward(1).forward(1).forward(0).forward(1).forward(0).vec,\n",
    "    gen.NodeRoot().forward(1).forward(1).forward(0).forward(1).forward(0).forward(0).vec,\n",
    "    \n",
    "    gen.NodeRoot().forward(0).forward(1).forward(0).forward(0).forward(1).forward(1).vec,\n",
    "    gen.NodeRoot().forward(1).forward(0).forward(0).forward(1).forward(1).forward(0).vec,\n",
    "    \n",
    "    gen.NodeRoot().forward(1).forward(0).forward(1).forward(0).forward(0).forward(1).vec\n",
    "    \n",
    "]"
   ]
  },
  {
   "cell_type": "code",
   "execution_count": 44,
   "id": "5a986f91",
   "metadata": {},
   "outputs": [
    {
     "data": {
      "text/plain": [
       "-64"
      ]
     },
     "execution_count": 44,
     "metadata": {},
     "output_type": "execute_result"
    }
   ],
   "source": [
    "92 - 156"
   ]
  },
  {
   "cell_type": "markdown",
   "id": "f8593384",
   "metadata": {},
   "source": [
    "## So within a set we always have fractions that look like:\n",
    "\n",
    "$ \\Large{ \\frac{n}{a + b}  }$\n",
    "\n",
    "Where:\n",
    "\n",
    "$ n = -(b + t) $\n",
    "\n",
    "So:\n",
    "\n",
    "$ \\Large{ \\frac{-(b+t)}{a + b} } $\n",
    "\n",
    "$ a = (-3)^j $\n",
    "\n",
    "$ b = 2^{2j} $\n",
    "\n",
    "To get $ 1:  t \\ must\\  = -a - 2b $\n",
    "\n",
    "$ t = ??? \\ \\ \\ \\ $ Is the only value that changes within a set \n",
    "\n",
    "### ? Big Question ?\n",
    "\n",
    "####  Can we find a formulaic ordering of sets of size rank-1 ?\n",
    "\n",
    "I think we can.\n",
    "\n",
    "Then we only have to show that every set of size > 2 has at least one non-positive non-integral solution."
   ]
  },
  {
   "cell_type": "code",
   "execution_count": null,
   "id": "e4f0ad46",
   "metadata": {},
   "outputs": [],
   "source": []
  }
 ],
 "metadata": {
  "kernelspec": {
   "display_name": "Python 3 (ipykernel)",
   "language": "python",
   "name": "python3"
  },
  "language_info": {
   "codemirror_mode": {
    "name": "ipython",
    "version": 3
   },
   "file_extension": ".py",
   "mimetype": "text/x-python",
   "name": "python",
   "nbconvert_exporter": "python",
   "pygments_lexer": "ipython3",
   "version": "3.10.4"
  }
 },
 "nbformat": 4,
 "nbformat_minor": 5
}
