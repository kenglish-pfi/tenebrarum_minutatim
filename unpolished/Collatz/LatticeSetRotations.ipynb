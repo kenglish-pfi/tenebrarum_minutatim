{
 "cells": [
  {
   "cell_type": "markdown",
   "id": "04ccbbc2",
   "metadata": {},
   "source": [
    "# Lattice solutions come in sets\n",
    "\n",
    "As labels rotate there must be corresponding linear functions to transform the state vectors of the nodes.  The product of all rotation matrices must be the unit-matrix.  We know the denominator terms do not change, so the middle 2 diagonals are always 1.\n",
    "\n",
    "Lets look at some examples"
   ]
  },
  {
   "cell_type": "code",
   "execution_count": 3,
   "id": "c220e6de",
   "metadata": {},
   "outputs": [],
   "source": [
    "import CollatzNDLattice.generator as gen\n",
    "import numpy as np\n"
   ]
  },
  {
   "cell_type": "code",
   "execution_count": 10,
   "id": "687690d8",
   "metadata": {},
   "outputs": [
    {
     "data": {
      "text/plain": [
       "[array([ 38, -27,  16, -54]),\n",
       " array([ 29, -27,  16, -45]),\n",
       " array([ 23, -27,  16, -39]),\n",
       " array([ 19, -27,  16, -35])]"
      ]
     },
     "execution_count": 10,
     "metadata": {},
     "output_type": "execute_result"
    }
   ],
   "source": [
    "## The _0111 set of four:  _0111, _1011, _1101, _1110\n",
    "\n",
    "[\n",
    "    gen.NodeRoot().forward(0).forward(1).forward(1).forward(1).vec,\n",
    "    gen.NodeRoot().forward(1).forward(0).forward(1).forward(1).vec,\n",
    "    gen.NodeRoot().forward(1).forward(1).forward(0).forward(1).vec,\n",
    "    gen.NodeRoot().forward(1).forward(1).forward(1).forward(0).vec\n",
    "]"
   ]
  },
  {
   "cell_type": "markdown",
   "id": "b94d5d69",
   "metadata": {},
   "source": [
    "## Note: $n + t = -16$ for all four vectors"
   ]
  },
  {
   "cell_type": "markdown",
   "id": "47015009",
   "metadata": {},
   "source": [
    "## Lattice paths\n",
    "\n",
    "  - \\_0111, \\_011, \\_01, \\_0, \\_, \\_1, \\_10, \\_101, \\_1011\n",
    "  - \\_1011, \\_101, \\_10, \\_1, \\_11, \\_110, \\_1101\n",
    "  - \\_1101, \\_110, \\_11, \\_111, \\_1110\n",
    "  - \\_1110, \\_111, \\_11, \\_1, \\_, \\_0, \\_01, \\_011, \\_0111"
   ]
  },
  {
   "cell_type": "code",
   "execution_count": 8,
   "id": "52f9a86f",
   "metadata": {},
   "outputs": [
    {
     "data": {
      "text/plain": [
       "array([ 29., -27.,  16., -45.])"
      ]
     },
     "execution_count": 8,
     "metadata": {},
     "output_type": "execute_result"
    }
   ],
   "source": [
    "T = np.array([[1,1.0/3,0,0],[0,1,0,0],[0,0,1,0],[0,-1.0/3,0,1]])\n",
    "np.inner(T, gen.NodeRoot().forward(0).forward(1).forward(1).forward(1).vec)"
   ]
  },
  {
   "cell_type": "code",
   "execution_count": 9,
   "id": "a0d0578e",
   "metadata": {},
   "outputs": [
    {
     "data": {
      "text/plain": [
       "array([ 20., -27.,  16., -36.])"
      ]
     },
     "execution_count": 9,
     "metadata": {},
     "output_type": "execute_result"
    }
   ],
   "source": [
    "T = np.array([[1,1.0/3,0,0],[0,1,0,0],[0,0,1,0],[0,-1.0/3,0,1]])\n",
    "np.inner(T, gen.NodeRoot().forward(1).forward(0).forward(1).forward(1).vec)"
   ]
  },
  {
   "cell_type": "code",
   "execution_count": null,
   "id": "dc5edbba",
   "metadata": {},
   "outputs": [],
   "source": []
  },
  {
   "cell_type": "code",
   "execution_count": 11,
   "id": "35ee366d",
   "metadata": {},
   "outputs": [
    {
     "data": {
      "text/plain": [
       "[array([  8,  -3,  16, -24]),\n",
       " array([  4,  -3,  16, -20]),\n",
       " array([  2,  -3,  16, -18]),\n",
       " array([  1,  -3,  16, -17])]"
      ]
     },
     "execution_count": 11,
     "metadata": {},
     "output_type": "execute_result"
    }
   ],
   "source": [
    "## The _0001 set of four:  _0001, _0010, _0100, _1000\n",
    "\n",
    "[\n",
    "    gen.NodeRoot().forward(0).forward(0).forward(0).forward(1).vec,\n",
    "    gen.NodeRoot().forward(0).forward(0).forward(1).forward(0).vec,\n",
    "    gen.NodeRoot().forward(0).forward(1).forward(0).forward(0).vec,\n",
    "    gen.NodeRoot().forward(1).forward(0).forward(0).forward(0).vec\n",
    "]"
   ]
  },
  {
   "cell_type": "markdown",
   "id": "fc7a6fa8",
   "metadata": {},
   "source": [
    "## Again Note: $n + t = -16$ for all four vectors"
   ]
  },
  {
   "cell_type": "code",
   "execution_count": 15,
   "id": "79bc01c6",
   "metadata": {},
   "outputs": [
    {
     "data": {
      "text/plain": [
       "[array([ 20,  -9,  16, -36]),\n",
       " array([ 10,  -9,  16, -26]),\n",
       " array([  5,  -9,  16, -21]),\n",
       " array([ 11,  -9,  16, -27])]"
      ]
     },
     "execution_count": 15,
     "metadata": {},
     "output_type": "execute_result"
    }
   ],
   "source": [
    "## The _0011 set of four:  _0011, _0110, _1001, _1100\n",
    "\n",
    "[\n",
    "    gen.NodeRoot().forward(0).forward(0).forward(1).forward(1).vec,\n",
    "    gen.NodeRoot().forward(0).forward(1).forward(1).forward(0).vec,\n",
    "    gen.NodeRoot().forward(1).forward(1).forward(0).forward(0).vec,\n",
    "    gen.NodeRoot().forward(1).forward(0).forward(0).forward(1).vec\n",
    "]"
   ]
  },
  {
   "cell_type": "markdown",
   "id": "3cf2d6d2",
   "metadata": {},
   "source": [
    "## Again Note: $n + t = -16$ for all four vectors"
   ]
  },
  {
   "cell_type": "code",
   "execution_count": 13,
   "id": "23d5c6fc",
   "metadata": {},
   "outputs": [
    {
     "data": {
      "text/plain": [
       "[array([ 32,  -3,  64, -96]),\n",
       " array([ 16,  -3,  64, -80]),\n",
       " array([  8,  -3,  64, -72]),\n",
       " array([  4,  -3,  64, -68]),\n",
       " array([  2,  -3,  64, -66]),\n",
       " array([  1,  -3,  64, -65])]"
      ]
     },
     "execution_count": 13,
     "metadata": {},
     "output_type": "execute_result"
    }
   ],
   "source": [
    "## The _000001 set of six\n",
    "\n",
    "[\n",
    "    gen.NodeRoot().forward(0).forward(0).forward(0).forward(0).forward(0).forward(1).vec,\n",
    "    gen.NodeRoot().forward(0).forward(0).forward(0).forward(0).forward(1).forward(0).vec,\n",
    "    gen.NodeRoot().forward(0).forward(0).forward(0).forward(1).forward(0).forward(0).vec,\n",
    "    gen.NodeRoot().forward(0).forward(0).forward(1).forward(0).forward(0).forward(0).vec,\n",
    "    gen.NodeRoot().forward(0).forward(1).forward(0).forward(0).forward(0).forward(0).vec,\n",
    "    gen.NodeRoot().forward(1).forward(0).forward(0).forward(0).forward(0).forward(0).vec\n",
    "    \n",
    "]"
   ]
  },
  {
   "cell_type": "code",
   "execution_count": null,
   "id": "6497217a",
   "metadata": {},
   "outputs": [],
   "source": [
    "# Rank 7:  n+t = -64 !  And the n sequence follows the same 2^j pattern as Rank 5 _0001 set !"
   ]
  },
  {
   "cell_type": "code",
   "execution_count": 14,
   "id": "f42149c0",
   "metadata": {},
   "outputs": [
    {
     "data": {
      "text/plain": [
       "[array([  80,   -9,   64, -144]),\n",
       " array([  40,   -9,   64, -104]),\n",
       " array([ 20,  -9,  64, -84]),\n",
       " array([ 10,  -9,  64, -74]),\n",
       " array([  5,  -9,  64, -69]),\n",
       " array([ 35,  -9,  64, -99])]"
      ]
     },
     "execution_count": 14,
     "metadata": {},
     "output_type": "execute_result"
    }
   ],
   "source": [
    "## The _000011 set of six\n",
    "\n",
    "[\n",
    "    gen.NodeRoot().forward(0).forward(0).forward(0).forward(0).forward(1).forward(1).vec,\n",
    "    gen.NodeRoot().forward(0).forward(0).forward(0).forward(1).forward(1).forward(0).vec,\n",
    "    gen.NodeRoot().forward(0).forward(0).forward(1).forward(1).forward(0).forward(0).vec,\n",
    "    gen.NodeRoot().forward(0).forward(1).forward(1).forward(0).forward(0).forward(0).vec,\n",
    "    gen.NodeRoot().forward(1).forward(1).forward(0).forward(0).forward(0).forward(0).vec,\n",
    "    gen.NodeRoot().forward(1).forward(0).forward(0).forward(0).forward(0).forward(1).vec\n",
    "    \n",
    "]"
   ]
  },
  {
   "cell_type": "code",
   "execution_count": null,
   "id": "6ad8e930",
   "metadata": {},
   "outputs": [],
   "source": [
    "# The equations within the cycles are very orderly and very much related to the bit patterns!"
   ]
  }
 ],
 "metadata": {
  "kernelspec": {
   "display_name": "Python 3 (ipykernel)",
   "language": "python",
   "name": "python3"
  },
  "language_info": {
   "codemirror_mode": {
    "name": "ipython",
    "version": 3
   },
   "file_extension": ".py",
   "mimetype": "text/x-python",
   "name": "python",
   "nbconvert_exporter": "python",
   "pygments_lexer": "ipython3",
   "version": "3.10.4"
  }
 },
 "nbformat": 4,
 "nbformat_minor": 5
}
