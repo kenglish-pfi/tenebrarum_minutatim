{
 "cells": [
  {
   "cell_type": "markdown",
   "metadata": {},
   "source": [
    "# Getting Close\n",
    "See the Google Doc FindCycle3Generator where I have the bottom chain worked out\n",
    "https://docs.google.com/spreadsheets/d/1_EZm_KQoJn90KZGa5myFTGrrqMqwMdGCPtbmGqPZGw8/edit#gid=202841299\n",
    "\n",
    "TODO: Have upper and lower branches \"right\", but mixing in middle is not correct.  Sure there is further logic involving the \"5\" term\n"
   ]
  },
  {
   "cell_type": "code",
   "execution_count": 1,
   "metadata": {},
   "outputs": [],
   "source": [
    "import sys, io\n",
    "import math\n",
    "import matplotlib.pyplot as plt\n",
    "import numpy as np\n",
    "import pandas as pd\n",
    "from scipy.optimize import nnls\n",
    "from fractions import Fraction\n",
    "\n",
    "pd.set_option('display.max_rows', None)"
   ]
  },
  {
   "cell_type": "code",
   "execution_count": 5,
   "metadata": {},
   "outputs": [],
   "source": [
    "def sct_with_fraction(sc_tup):\n",
    "    '''\n",
    "    Convert a Shortcut Collatz Tuple to a reduced fraction\n",
    "    '''\n",
    "    p2, p3, p5, c = sc_tup\n",
    "    fract = Fraction(2**p2 - c, 3**p3 * 5**p5)\n",
    "    return [p2, p3, p5, c, fract.numerator, fract.denominator]\n",
    "#\n",
    "\n",
    "def filter_int(sc_fraction_list):\n",
    "    for fract in sc_fraction_list:\n",
    "        if fract[1] == 1:\n",
    "            yield fract[0]\n",
    "#\n",
    "\n",
    "# tup expresses a rational number of the form:\n",
    "#  (2**p2 - c) / (3**p3)*(5**p5)\n",
    "\n",
    "def matrix_start_generator_cycle_3(sc_tup):\n",
    "    '''\n",
    "    Generate 2 tuples for the next generation from a single tuple from the current generation\n",
    "    '''\n",
    "    p2, p3, p5, c = sc_tup\n",
    "    t1 = (p2 + 1, p3, p5, c)\n",
    "    t2 = (p2 + 1, p3 + 1, p5, 3*(c - 2**p2))\n",
    "    return t1, t2\n",
    "#\n",
    "\n",
    "\n",
    "def next_generation_cycle_3(prior_generation):\n",
    "    '''\n",
    "    Create the next generation from the prior.  We order the tuples so that they\n",
    "    match up with the order of the matrix solutions for convenience.\n",
    "    '''\n",
    "    head_list = []\n",
    "    tail_list = []\n",
    "    for sc_tup in prior_generation:\n",
    "        t1, t2 = matrix_start_generator_cycle_3(sc_tup)\n",
    "        head_list.append(t1)\n",
    "        tail_list.append(t2)\n",
    "    return head_list + tail_list\n",
    "#"
   ]
  },
  {
   "cell_type": "code",
   "execution_count": 6,
   "metadata": {},
   "outputs": [],
   "source": [
    "def gen_generation_cycle_3(n_generations):\n",
    "    gen_1 = [(1,0,1,0),(1,0,0,7)]\n",
    "    gen_1_fract = list(map(sct_with_fraction, gen_1))\n",
    "    print(gen_1_fract)\n",
    "    gen = gen_1\n",
    "    for i in range(n_generations):\n",
    "        gen = next_generation_cycle_3(gen)\n",
    "        gen_fract = list(map(sct_with_fraction, gen))\n",
    "        print(gen_fract)\n",
    "#"
   ]
  },
  {
   "cell_type": "code",
   "execution_count": 7,
   "metadata": {},
   "outputs": [
    {
     "name": "stdout",
     "output_type": "stream",
     "text": [
      "[[1, 0, 1, 0, 2, 5], [1, 0, 0, 7, -5, 1]]\n",
      "[[2, 0, 1, 0, 4, 5], [2, 0, 0, 7, -3, 1], [2, 1, 1, -6, 2, 3], [2, 1, 0, 15, -11, 3]]\n",
      "[[3, 0, 1, 0, 8, 5], [3, 0, 0, 7, 1, 1], [3, 1, 1, -6, 14, 15], [3, 1, 0, 15, -7, 3], [3, 1, 1, -12, 4, 3], [3, 1, 0, 9, -1, 3], [3, 2, 1, -30, 38, 45], [3, 2, 0, 33, -25, 9]]\n",
      "[[4, 0, 1, 0, 16, 5], [4, 0, 0, 7, 9, 1], [4, 1, 1, -6, 22, 15], [4, 1, 0, 15, 1, 3], [4, 1, 1, -12, 28, 15], [4, 1, 0, 9, 7, 3], [4, 2, 1, -30, 46, 45], [4, 2, 0, 33, -17, 9], [4, 1, 1, -24, 8, 3], [4, 1, 0, -3, 19, 3], [4, 2, 1, -42, 58, 45], [4, 2, 0, 21, -5, 9], [4, 2, 1, -60, 76, 45], [4, 2, 0, 3, 13, 9], [4, 3, 1, -114, 26, 27], [4, 3, 0, 75, -59, 27]]\n"
     ]
    }
   ],
   "source": [
    "gen_generation_cycle_3(3)"
   ]
  },
  {
   "cell_type": "code",
   "execution_count": null,
   "metadata": {},
   "outputs": [],
   "source": []
  }
 ],
 "metadata": {
  "kernelspec": {
   "display_name": "Python 3",
   "language": "python",
   "name": "python3"
  },
  "language_info": {
   "codemirror_mode": {
    "name": "ipython",
    "version": 3
   },
   "file_extension": ".py",
   "mimetype": "text/x-python",
   "name": "python",
   "nbconvert_exporter": "python",
   "pygments_lexer": "ipython3",
   "version": "3.8.5"
  }
 },
 "nbformat": 4,
 "nbformat_minor": 4
}
