{
 "cells": [
  {
   "cell_type": "markdown",
   "metadata": {},
   "source": [
    "# Collatz Proof\n",
    "\n",
    "In this version, we tweak the function so that for odd we also divide by 2 once.\n",
    "\n",
    "In this version we are discovering the generator function for \"the next bits\""
   ]
  },
  {
   "cell_type": "markdown",
   "metadata": {},
   "source": [
    "## Predictive Power"
   ]
  },
  {
   "cell_type": "code",
   "execution_count": 130,
   "metadata": {},
   "outputs": [],
   "source": [
    "import sys, io\n",
    "import math\n",
    "import numpy as np\n",
    "import pandas as pd\n",
    "from scipy.optimize import nnls\n",
    "\n",
    "pd.set_option('display.max_rows', None)"
   ]
  },
  {
   "cell_type": "code",
   "execution_count": 20,
   "metadata": {},
   "outputs": [],
   "source": [
    "def collatzNext(n):\n",
    "    if n %2 == 0:\n",
    "        return n//2\n",
    "    return (3*n + 1)//2\n",
    "\n",
    "def collatzIter(start, iterations):\n",
    "    n = start\n",
    "    count = 0\n",
    "    while count < iterations:\n",
    "        if n %2 == 0:\n",
    "            m = n//2\n",
    "            yield n\n",
    "            n = m\n",
    "        else:\n",
    "            m = (3*n + 1)//2\n",
    "            yield n\n",
    "            n = m\n",
    "        count = count + 1\n",
    "    #\n",
    "    return 1\n"
   ]
  },
  {
   "cell_type": "code",
   "execution_count": 4,
   "metadata": {},
   "outputs": [],
   "source": [
    "def blocks(sequence):\n",
    "    for n in sequence:\n",
    "        if  n %2 == 0:\n",
    "            yield '□'\n",
    "        else:\n",
    "            yield '■'\n",
    "    "
   ]
  },
  {
   "cell_type": "code",
   "execution_count": 5,
   "metadata": {},
   "outputs": [
    {
     "name": "stdout",
     "output_type": "stream",
     "text": [
      "2   [1, 3]\n",
      "3   [1, 5, 3, 7]\n",
      "4   [1, 9, 5, 13, 3, 11, 7, 15]\n",
      "5   [1, 17, 9, 25, 5, 21, 13, 29, 3, 19, 11, 27, 7, 23, 15, 31]\n",
      "6   [1, 33, 17, 49, 9, 41, 25, 57, 5, 37, 21, 53, 13, 45, 29, 61, 3, 35, 19, 51, 11, 43, 27, 59, 7, 39, 23, 55, 15, 47, 31, 63]\n",
      "7   [1, 65, 33, 97, 17, 81, 49, 113, 9, 73, 41, 105, 25, 89, 57, 121, 5, 69, 37, 101, 21, 85, 53, 117, 13, 77, 45, 109, 29, 93, 61, 125, 3, 67, 35, 99, 19, 83, 51, 115, 11, 75, 43, 107, 27, 91, 59, 123, 7, 71, 39, 103, 23, 87, 55, 119, 15, 79, 47, 111, 31, 95, 63, 127]\n",
      "8   [1, 129, 65, 193, 33, 161, 97, 225, 17, 145, 81, 209, 49, 177, 113, 241, 9, 137, 73, 201, 41, 169, 105, 233, 25, 153, 89, 217, 57, 185, 121, 249, 5, 133, 69, 197, 37, 165, 101, 229, 21, 149, 85, 213, 53, 181, 117, 245, 13, 141, 77, 205, 45, 173, 109, 237, 29, 157, 93, 221, 61, 189, 125, 253, 3, 131, 67, 195, 35, 163, 99, 227, 19, 147, 83, 211, 51, 179, 115, 243, 11, 139, 75, 203, 43, 171, 107, 235, 27, 155, 91, 219, 59, 187, 123, 251, 7, 135, 71, 199, 39, 167, 103, 231, 23, 151, 87, 215, 55, 183, 119, 247, 15, 143, 79, 207, 47, 175, 111, 239, 31, 159, 95, 223, 63, 191, 127, 255]\n"
     ]
    }
   ],
   "source": [
    "def split(q, L_in):\n",
    "    L_out = []\n",
    "    for elem in L_in:\n",
    "        L_out.append(elem)\n",
    "        L_out.append(elem + 2**q)\n",
    "    q = q + 1\n",
    "    return q, L_out\n",
    "#\n",
    "def gen_partitions():\n",
    "    L = [1]\n",
    "    for p in range(1,8,1):\n",
    "        q, L = split(p, L)\n",
    "        print(\"%d   %s\"%(q, L))\n",
    "#\n",
    "gen_partitions()"
   ]
  },
  {
   "cell_type": "code",
   "execution_count": 14,
   "metadata": {},
   "outputs": [
    {
     "name": "stdout",
     "output_type": "stream",
     "text": [
      "2   [1, 3]\n",
      "2   [0, 1]\n",
      "2   2\n",
      "3   [1, 5, 3, 7]\n",
      "next bit for 5 is 0\n",
      "3   [1, 0, 0, 1]\n",
      "3   9\n",
      "4   [1, 9, 5, 13, 3, 11, 7, 15]\n",
      "next bit for 5 is 0\n",
      "4   [0, 1, 0, 1, 0, 1, 0, 1]\n",
      "4   170\n",
      "5   [1, 17, 9, 25, 5, 21, 13, 29, 3, 19, 11, 27, 7, 23, 15, 31]\n",
      "next bit for 5 is 1\n",
      "5   [1, 0, 1, 0, 1, 0, 0, 1, 0, 1, 0, 1, 1, 0, 0, 1]\n",
      "5   39573\n",
      "6   [1, 33, 17, 49, 9, 41, 25, 57, 5, 37, 21, 53, 13, 45, 29, 61, 3, 35, 19, 51, 11, 43, 27, 59, 7, 39, 23, 55, 15, 47, 31, 63]\n",
      "next bit for 5 is 0\n",
      "6   [0, 1, 1, 0, 0, 1, 0, 1, 0, 1, 0, 1, 0, 1, 0, 1, 1, 0, 1, 0, 0, 1, 1, 0, 0, 1, 0, 1, 0, 1, 0, 1]\n",
      "6   2858789542\n",
      "7   [1, 65, 33, 97, 17, 81, 49, 113, 9, 73, 41, 105, 25, 89, 57, 121, 5, 69, 37, 101, 21, 85, 53, 117, 13, 77, 45, 109, 29, 93, 61, 125, 3, 67, 35, 99, 19, 83, 51, 115, 11, 75, 43, 107, 27, 91, 59, 123, 7, 71, 39, 103, 23, 87, 55, 119, 15, 79, 47, 111, 31, 95, 63, 127]\n",
      "next bit for 5 is 1\n",
      "7   [1, 0, 0, 1, 0, 1, 1, 0, 1, 0, 1, 0, 1, 0, 0, 1, 1, 0, 1, 0, 1, 0, 0, 1, 0, 1, 0, 1, 1, 0, 0, 1, 0, 1, 1, 0, 0, 1, 0, 1, 1, 0, 0, 1, 1, 0, 0, 1, 0, 1, 0, 1, 0, 1, 1, 0, 0, 1, 0, 1, 1, 0, 0, 1]\n",
      "7   11126874770209346921\n",
      "8   [1, 129, 65, 193, 33, 161, 97, 225, 17, 145, 81, 209, 49, 177, 113, 241, 9, 137, 73, 201, 41, 169, 105, 233, 25, 153, 89, 217, 57, 185, 121, 249, 5, 133, 69, 197, 37, 165, 101, 229, 21, 149, 85, 213, 53, 181, 117, 245, 13, 141, 77, 205, 45, 173, 109, 237, 29, 157, 93, 221, 61, 189, 125, 253, 3, 131, 67, 195, 35, 163, 99, 227, 19, 147, 83, 211, 51, 179, 115, 243, 11, 139, 75, 203, 43, 171, 107, 235, 27, 155, 91, 219, 59, 187, 123, 251, 7, 135, 71, 199, 39, 167, 103, 231, 23, 151, 87, 215, 55, 183, 119, 247, 15, 143, 79, 207, 47, 175, 111, 239, 31, 159, 95, 223, 63, 191, 127, 255]\n",
      "next bit for 5 is 0\n",
      "8   [0, 1, 0, 1, 0, 1, 0, 1, 0, 1, 1, 0, 1, 0, 0, 1, 0, 1, 1, 0, 0, 1, 0, 1, 1, 0, 1, 0, 1, 0, 1, 0, 0, 1, 1, 0, 0, 1, 0, 1, 0, 1, 0, 1, 0, 1, 0, 1, 1, 0, 1, 0, 0, 1, 1, 0, 0, 1, 0, 1, 0, 1, 0, 1, 1, 0, 0, 1, 0, 1, 1, 0, 1, 0, 1, 0, 1, 0, 0, 1, 0, 1, 0, 1, 0, 1, 0, 1, 1, 0, 1, 0, 0, 1, 0, 1, 1, 0, 1, 0, 0, 1, 1, 0, 1, 0, 0, 1, 1, 0, 0, 1, 0, 1, 0, 1, 1, 0, 0, 1, 0, 1, 0, 1, 0, 1, 0, 1]\n",
      "8   226771484261635084086362763766146700970\n"
     ]
    }
   ],
   "source": [
    "def next_bits(p, L):\n",
    "    B = []\n",
    "    for elem in L:\n",
    "        x = 2**p + elem\n",
    "        for i in range(p-1):\n",
    "            x = collatzNext(x)\n",
    "        if x % 2 == 0:\n",
    "            bit = 0\n",
    "        else:\n",
    "            bit = 1\n",
    "        B.append(bit)\n",
    "        \n",
    "        if elem == 5:\n",
    "            print(\"next bit for 5 is %d\"%(bit))\n",
    "    return B\n",
    "\n",
    "def numFromBits(A):\n",
    "    B = list(reversed(A))\n",
    "    s = \"\".join(map(str, B))\n",
    "    n = int(s, base=2)\n",
    "    return n\n",
    "#\n",
    "\n",
    "def gen_partition_next_bit():\n",
    "    L = [1]\n",
    "    for p in range(1,8,1):\n",
    "        q, L = split(p, L)\n",
    "        print(\"%d   %s\"%(q, L))\n",
    "        B = next_bits(q, L)\n",
    "        print(\"%d   %s\"%(q, B))\n",
    "        n = numFromBits(B)\n",
    "        print(\"%d   %d\"%(q,n))\n",
    "#\n",
    "gen_partition_next_bit()"
   ]
  },
  {
   "cell_type": "code",
   "execution_count": 26,
   "metadata": {},
   "outputs": [
    {
     "data": {
      "text/plain": [
       "'■■■■□□□□■□□□■□■□■□■□■□■□■□■□■□■□■□■□■□■□■□■□■□■□■□■□■□■□■□■□■□■□■□■□■□■□■□■□■□■□'"
      ]
     },
     "execution_count": 26,
     "metadata": {},
     "output_type": "execute_result"
    }
   ],
   "source": [
    "''.join(list(blocks(collatzIter(15, 80))))"
   ]
  },
  {
   "cell_type": "code",
   "execution_count": 27,
   "metadata": {},
   "outputs": [
    {
     "data": {
      "text/plain": [
       "'■■■■■□■□■■□■■■□■■■■□■□□■■■□■■□■■■■■■□□■■■■□□□■□■□■□□□■□□■■■□□□□■□□□■□■□■□■□■□■□■'"
      ]
     },
     "execution_count": 27,
     "metadata": {},
     "output_type": "execute_result"
    }
   ],
   "source": [
    "''.join(list(blocks(collatzIter(31, 80))))"
   ]
  },
  {
   "cell_type": "code",
   "execution_count": 25,
   "metadata": {},
   "outputs": [
    {
     "data": {
      "text/plain": [
       "'■■■■□■□■■□■■■□■■■■□■□□■■■□■■□■■■■■■□□■■■■□□□■□■□■□□□■□□■■■□□□□■□□□■□■□■□■□■□■□■□'"
      ]
     },
     "execution_count": 25,
     "metadata": {},
     "output_type": "execute_result"
    }
   ],
   "source": [
    "''.join(list(blocks(collatzIter(47, 80))))"
   ]
  },
  {
   "cell_type": "code",
   "execution_count": 28,
   "metadata": {},
   "outputs": [
    {
     "data": {
      "text/plain": [
       "'■■■■■■□□□■■□■■■□■■■■□■□□■■■□■■□■■■■■■□□■■■■□□□■□■□■□□□■□□■■■□□□□■□□□■□■□■□■□■□■□'"
      ]
     },
     "execution_count": 28,
     "metadata": {},
     "output_type": "execute_result"
    }
   ],
   "source": [
    "''.join(list(blocks(collatzIter(63, 80))))"
   ]
  },
  {
   "cell_type": "code",
   "execution_count": 29,
   "metadata": {},
   "outputs": [
    {
     "data": {
      "text/plain": [
       "'■■■■□□■□□□■■□□■■□■□□■□□□■□■□■□■□■□■□■□■□■□■□■□■□■□■□■□■□■□■□■□■□■□■□■□■□■□■□■□■□'"
      ]
     },
     "execution_count": 29,
     "metadata": {},
     "output_type": "execute_result"
    }
   ],
   "source": [
    "''.join(list(blocks(collatzIter(79, 80))))"
   ]
  },
  {
   "cell_type": "code",
   "execution_count": 30,
   "metadata": {},
   "outputs": [
    {
     "data": {
      "text/plain": [
       "69"
      ]
     },
     "execution_count": 30,
     "metadata": {},
     "output_type": "execute_result"
    }
   ],
   "source": [
    "len('■■■■■□■□■■□■■■□■■■■□■□□■■■□■■□■■■■■■□□■■■■□□□■□■□■□□□■□□■■■□□□□■□□□■□')"
   ]
  },
  {
   "cell_type": "code",
   "execution_count": 34,
   "metadata": {},
   "outputs": [
    {
     "name": "stdout",
     "output_type": "stream",
     "text": [
      "[31, 47, 71, 107, 161, 242, 121, 182, 91, 137]\n"
     ]
    }
   ],
   "source": [
    "print(list(collatzIter(31, 10)))"
   ]
  },
  {
   "cell_type": "code",
   "execution_count": 35,
   "metadata": {},
   "outputs": [
    {
     "name": "stdout",
     "output_type": "stream",
     "text": [
      "[47, 71, 107, 161, 242, 121, 182, 91, 137]\n"
     ]
    }
   ],
   "source": [
    "print(list(collatzIter(47, 9)))"
   ]
  },
  {
   "cell_type": "code",
   "execution_count": 36,
   "metadata": {},
   "outputs": [
    {
     "name": "stdout",
     "output_type": "stream",
     "text": [
      "[63, 95, 143, 215, 323, 485, 728, 364, 182, 91, 137]\n"
     ]
    }
   ],
   "source": [
    "print(list(collatzIter(63, 11)))"
   ]
  },
  {
   "cell_type": "code",
   "execution_count": 121,
   "metadata": {},
   "outputs": [
    {
     "name": "stdout",
     "output_type": "stream",
     "text": [
      "[15, 23, 35, 53, 80, 40, 20, 10]\n"
     ]
    }
   ],
   "source": [
    "print(list(collatzIter(15, len('■■■■□□□□'))))"
   ]
  },
  {
   "cell_type": "code",
   "execution_count": 126,
   "metadata": {},
   "outputs": [
    {
     "name": "stdout",
     "output_type": "stream",
     "text": [
      "[79, 119, 179, 269, 404, 202, 101, 152, 76, 38, 19, 29, 44, 22, 11, 17, 26, 13, 20, 10]\n"
     ]
    }
   ],
   "source": [
    "print(list(collatzIter(79, len('■■■■□□■□□□■■□□■■□■□□'))))"
   ]
  },
  {
   "cell_type": "code",
   "execution_count": 125,
   "metadata": {},
   "outputs": [
    {
     "name": "stdout",
     "output_type": "stream",
     "text": [
      "[69, 104, 52, 26, 13, 20, 10, 5, 8, 4, 2]\n"
     ]
    }
   ],
   "source": [
    "print(list(collatzIter(69, 11)))"
   ]
  },
  {
   "cell_type": "code",
   "execution_count": 38,
   "metadata": {},
   "outputs": [
    {
     "name": "stdout",
     "output_type": "stream",
     "text": [
      "[133, 200, 100, 50, 25, 38]\n"
     ]
    }
   ],
   "source": [
    "print(list(collatzIter(128+5, 6)))"
   ]
  },
  {
   "cell_type": "code",
   "execution_count": 66,
   "metadata": {},
   "outputs": [],
   "source": [
    "A = np.array([\n",
    "    [-3,2,0,0,0,0,0],\n",
    "    [0,-1,2,0,0,0,0],\n",
    "    [0,0,-1,2,0,0,0],\n",
    "    [0,0,0,-1,2,0,0],\n",
    "    [0,0,0,0,-1,2,0],\n",
    "    [0,0,0,0,0,-3,2]\n",
    "])\n",
    "b = np.array([1,0,0,0,0,1])\n",
    "x, rnorm = nnls(A,b)"
   ]
  },
  {
   "cell_type": "code",
   "execution_count": 67,
   "metadata": {},
   "outputs": [
    {
     "data": {
      "text/plain": [
       "array([0.      , 0.5     , 0.25    , 0.125   , 0.0625  , 0.03125 ,\n",
       "       0.546875])"
      ]
     },
     "execution_count": 67,
     "metadata": {},
     "output_type": "execute_result"
    }
   ],
   "source": [
    "x"
   ]
  },
  {
   "cell_type": "code",
   "execution_count": 69,
   "metadata": {},
   "outputs": [
    {
     "data": {
      "text/plain": [
       "array([ 0., 32., 16.,  8.,  4.,  2., 35.])"
      ]
     },
     "execution_count": 69,
     "metadata": {},
     "output_type": "execute_result"
    }
   ],
   "source": [
    "x*64"
   ]
  },
  {
   "cell_type": "code",
   "execution_count": 70,
   "metadata": {},
   "outputs": [
    {
     "data": {
      "text/plain": [
       "0.0"
      ]
     },
     "execution_count": 70,
     "metadata": {},
     "output_type": "execute_result"
    }
   ],
   "source": [
    "rnorm"
   ]
  },
  {
   "cell_type": "markdown",
   "metadata": {},
   "source": [
    "# This representation of 5,8,4,2,1,2,1 works"
   ]
  },
  {
   "cell_type": "code",
   "execution_count": 101,
   "metadata": {},
   "outputs": [
    {
     "data": {
      "text/plain": [
       "12.0"
      ]
     },
     "execution_count": 101,
     "metadata": {},
     "output_type": "execute_result"
    }
   ],
   "source": [
    "A = np.array([\n",
    "    [-3,2,0,0,0,0,0],\n",
    "    [0,-1,2,0,0,0,0],\n",
    "    [0,0,-1,2,0,0,0],\n",
    "    [0,0,0,-1,2,0,0],\n",
    "    [0,0,0,0,-1,2,0],\n",
    "    [0,0,0,0,0,-3,2],\n",
    "    [0,0,0,0,1, 0,0]\n",
    "])\n",
    "b = np.array([1,0,0,0,0,1,1])\n",
    "np.linalg.det(A)"
   ]
  },
  {
   "cell_type": "code",
   "execution_count": 102,
   "metadata": {},
   "outputs": [
    {
     "data": {
      "text/plain": [
       "array([0.      , 0.5     , 0.25    , 0.125   , 0.0625  , 0.03125 ,\n",
       "       0.546875])"
      ]
     },
     "execution_count": 102,
     "metadata": {},
     "output_type": "execute_result"
    }
   ],
   "source": [
    "x"
   ]
  },
  {
   "cell_type": "code",
   "execution_count": 103,
   "metadata": {},
   "outputs": [
    {
     "data": {
      "text/plain": [
       "array([[ 1,  2,  0,  0,  0,  0,  0],\n",
       "       [ 0, -1,  2,  0,  0,  0,  0],\n",
       "       [ 0,  0, -1,  2,  0,  0,  0],\n",
       "       [ 0,  0,  0, -1,  2,  0,  0],\n",
       "       [ 0,  0,  0,  0, -1,  2,  0],\n",
       "       [ 1,  0,  0,  0,  0, -3,  2],\n",
       "       [ 1,  0,  0,  0,  1,  0,  0]])"
      ]
     },
     "execution_count": 103,
     "metadata": {},
     "output_type": "execute_result"
    }
   ],
   "source": [
    "A0 = A.copy()\n",
    "A0.T[0] = b\n",
    "A0"
   ]
  },
  {
   "cell_type": "code",
   "execution_count": 104,
   "metadata": {},
   "outputs": [
    {
     "data": {
      "text/plain": [
       "4.999999999999999"
      ]
     },
     "execution_count": 104,
     "metadata": {},
     "output_type": "execute_result"
    }
   ],
   "source": [
    "np.linalg.det(A0)/np.linalg.det(A)"
   ]
  },
  {
   "cell_type": "markdown",
   "metadata": {},
   "source": [
    "The sequence which imposes a cycle without explicitly specifying that the sequence contains a $1$\n",
    "\n",
    "  -  $x_{1}$  = $(3x_{0}+1)/2$\n",
    "    \n",
    "  -  $x_{2}$  = $x_{1}/2$\n",
    "    \n",
    "  -  $x_{3}$  = $x_{2}/2$\n",
    "    \n",
    "  -  $x_{4}$  = $x_{3}/2$\n",
    "    \n",
    "  -  $x_{5}$ = $(3x_{4}+1)/2$\n",
    "\n",
    "  -  $x_{6}$ = $x_{5}/2$\n",
    "\n",
    "  -  $x_{7}$ = $x_{5}$\n",
    "\n",
    " Imposes the same constraints as the sequence that explicitly terminates at $1$ two steps earlier:\n",
    "\n",
    "  -  $x_{1}$  = $(3x_{0}+1)/2$\n",
    "    \n",
    "  -  $x_{2}$  = $x_{1}/2$\n",
    "    \n",
    "  -  $x_{3}$  = $x_{2}/2$\n",
    "    \n",
    "  -  $x_{4}$  = $x_{3}/2$\n",
    "    \n",
    "  -  $x_{5}$ = $1$\n",
    "\n"
   ]
  },
  {
   "cell_type": "code",
   "execution_count": 118,
   "metadata": {},
   "outputs": [
    {
     "data": {
      "text/plain": [
       "(-15.0, -2.9999999999999996, 5.000000000000001)"
      ]
     },
     "execution_count": 118,
     "metadata": {},
     "output_type": "execute_result"
    }
   ],
   "source": [
    "A = np.array([\n",
    "    [-3,2,0,0,0,0,0],\n",
    "    [0,-1,2,0,0,0,0],\n",
    "    [0,0,-1,2,0,0,0],\n",
    "    [0,0,0,-1,2,0,0],\n",
    "    [0,0,0,0,-3,2,0],\n",
    "    [0,0,0,0,0,-1,2],\n",
    "    [0,0,0,0,-1,0, 1],\n",
    "])\n",
    "b = np.array([1,0,0,0,1,0,0])\n",
    "d = np.linalg.det(A)\n",
    "A0 = A.copy()\n",
    "A0.T[0] = b\n",
    "d0 = np.linalg.det(A0)\n",
    "(d0, d, d0/d)"
   ]
  },
  {
   "cell_type": "code",
   "execution_count": 120,
   "metadata": {},
   "outputs": [
    {
     "data": {
      "text/plain": [
       "(14.999999999999993, 3.0000000000000004, 4.999999999999997)"
      ]
     },
     "execution_count": 120,
     "metadata": {},
     "output_type": "execute_result"
    }
   ],
   "source": [
    "A = np.array([\n",
    "    [-3,2,0,0,0],\n",
    "    [0,-1,2,0,0],\n",
    "    [0,0,-1,2,0],\n",
    "    [0,0,0,-1,2],\n",
    "    [0,0,0,0, 1]\n",
    "    \n",
    "])\n",
    "b = np.array([1,0,0,0,1])\n",
    "d = np.linalg.det(A)\n",
    "A0 = A.copy()\n",
    "A0.T[0] = b\n",
    "d0 = np.linalg.det(A0)\n",
    "(d0, d, d0/d)"
   ]
  },
  {
   "cell_type": "code",
   "execution_count": 119,
   "metadata": {},
   "outputs": [
    {
     "data": {
      "text/plain": [
       "(44.99999999999997, 9.000000000000002, 4.999999999999996)"
      ]
     },
     "execution_count": 119,
     "metadata": {},
     "output_type": "execute_result"
    }
   ],
   "source": [
    "A = np.array([\n",
    "    [-3,2,0,0,0,0,0],\n",
    "    [0,-1,2,0,0,0,0],\n",
    "    [0,0,-1,2,0,0,0],\n",
    "    [0,0,0,-1,2,0,0],\n",
    "    [0,0,0,0,-3,2,0],\n",
    "    [0,0,0,0,0,-1,2],\n",
    "    [0,0,0,0,0,0, 1],\n",
    "])\n",
    "b = np.array([1,0,0,0,1,0,1])\n",
    "d = np.linalg.det(A)\n",
    "A0 = A.copy()\n",
    "A0.T[0] = b\n",
    "d0 = np.linalg.det(A0)\n",
    "(d0, d, d0/d)"
   ]
  },
  {
   "cell_type": "code",
   "execution_count": 127,
   "metadata": {},
   "outputs": [
    {
     "data": {
      "text/plain": [
       "(70, 29)"
      ]
     },
     "execution_count": 127,
     "metadata": {},
     "output_type": "execute_result"
    }
   ],
   "source": [
    "len('■■■■■□■□■■□■■■□■■■■□■□□■■■□■■□■■■■■■□□■■■■□□□■□■□■□□□■□□■■■□□□□■□□□■□■'), len('□□□□□□□□□□□□□□□□□□□□□□□□□□□□□')"
   ]
  },
  {
   "cell_type": "code",
   "execution_count": 131,
   "metadata": {},
   "outputs": [
    {
     "data": {
      "text/plain": [
       "81.3624125497598"
      ]
     },
     "execution_count": 131,
     "metadata": {},
     "output_type": "execute_result"
    }
   ],
   "source": [
    "(69 * math.log(3) / math.log(2) ) - 28"
   ]
  },
  {
   "cell_type": "code",
   "execution_count": 135,
   "metadata": {},
   "outputs": [
    {
     "name": "stdout",
     "output_type": "stream",
     "text": [
      "12157665459056928802\n",
      "63.39850002884625\n"
     ]
    }
   ],
   "source": [
    "x = 2**69 + 31\n",
    "for i in range(69):\n",
    "    x = collatzNext(x)\n",
    "print(x)\n",
    "print(math.log(x,2.0))"
   ]
  },
  {
   "cell_type": "code",
   "execution_count": 136,
   "metadata": {},
   "outputs": [
    {
     "data": {
      "text/plain": [
       "2934293422202152994"
      ]
     },
     "execution_count": 136,
     "metadata": {},
     "output_type": "execute_result"
    }
   ],
   "source": [
    "12157665459056928802 - 2**63"
   ]
  },
  {
   "cell_type": "code",
   "execution_count": 137,
   "metadata": {},
   "outputs": [
    {
     "name": "stdout",
     "output_type": "stream",
     "text": [
      "61.347718852190994\n"
     ]
    }
   ],
   "source": [
    "print(math.log(2934293422202152994, 2.0))"
   ]
  },
  {
   "cell_type": "code",
   "execution_count": 138,
   "metadata": {},
   "outputs": [
    {
     "data": {
      "text/plain": [
       "628450412988459042"
      ]
     },
     "execution_count": 138,
     "metadata": {},
     "output_type": "execute_result"
    }
   ],
   "source": [
    "2934293422202152994 - 2**61"
   ]
  },
  {
   "cell_type": "code",
   "execution_count": 139,
   "metadata": {},
   "outputs": [
    {
     "name": "stdout",
     "output_type": "stream",
     "text": [
      "59.12457652836275\n"
     ]
    }
   ],
   "source": [
    "print(math.log(628450412988459042, 2.0))"
   ]
  },
  {
   "cell_type": "code",
   "execution_count": 140,
   "metadata": {},
   "outputs": [
    {
     "data": {
      "text/plain": [
       "51989660685035554"
      ]
     },
     "execution_count": 140,
     "metadata": {},
     "output_type": "execute_result"
    }
   ],
   "source": [
    "628450412988459042 - 2**59"
   ]
  },
  {
   "cell_type": "code",
   "execution_count": 141,
   "metadata": {},
   "outputs": [
    {
     "name": "stdout",
     "output_type": "stream",
     "text": [
      "55.52907425757527\n"
     ]
    }
   ],
   "source": [
    "print(math.log(51989660685035554, 2.0))"
   ]
  },
  {
   "cell_type": "code",
   "execution_count": 142,
   "metadata": {},
   "outputs": [
    {
     "data": {
      "text/plain": [
       "15960863666071586"
      ]
     },
     "execution_count": 142,
     "metadata": {},
     "output_type": "execute_result"
    }
   ],
   "source": [
    "51989660685035554 - 2**55"
   ]
  },
  {
   "cell_type": "code",
   "execution_count": 143,
   "metadata": {},
   "outputs": [
    {
     "name": "stdout",
     "output_type": "stream",
     "text": [
      "53.82538823824467\n"
     ]
    }
   ],
   "source": [
    "print(math.log(15960863666071586, 2.0))"
   ]
  },
  {
   "cell_type": "code",
   "execution_count": 144,
   "metadata": {},
   "outputs": [
    {
     "data": {
      "text/plain": [
       "6953664411330594"
      ]
     },
     "execution_count": 144,
     "metadata": {},
     "output_type": "execute_result"
    }
   ],
   "source": [
    "15960863666071586 - 2**53"
   ]
  },
  {
   "cell_type": "code",
   "execution_count": 145,
   "metadata": {},
   "outputs": [
    {
     "name": "stdout",
     "output_type": "stream",
     "text": [
      "52.6266948665923\n"
     ]
    }
   ],
   "source": [
    "print(math.log(6953664411330594, 2.0))"
   ]
  },
  {
   "cell_type": "code",
   "execution_count": 146,
   "metadata": {},
   "outputs": [
    {
     "data": {
      "text/plain": [
       "2450064783960098"
      ]
     },
     "execution_count": 146,
     "metadata": {},
     "output_type": "execute_result"
    }
   ],
   "source": [
    "6953664411330594 - 2**52"
   ]
  },
  {
   "cell_type": "code",
   "execution_count": 147,
   "metadata": {},
   "outputs": [
    {
     "name": "stdout",
     "output_type": "stream",
     "text": [
      "51.121741320400446\n"
     ]
    }
   ],
   "source": [
    "print(math.log(2450064783960098, 2.0))"
   ]
  },
  {
   "cell_type": "code",
   "execution_count": 148,
   "metadata": {},
   "outputs": [
    {
     "data": {
      "text/plain": [
       "198264970274850"
      ]
     },
     "execution_count": 148,
     "metadata": {},
     "output_type": "execute_result"
    }
   ],
   "source": [
    "2450064783960098 - 2**51"
   ]
  },
  {
   "cell_type": "code",
   "execution_count": 149,
   "metadata": {},
   "outputs": [
    {
     "name": "stdout",
     "output_type": "stream",
     "text": [
      "47.49442313117902\n"
     ]
    }
   ],
   "source": [
    "print(math.log(198264970274850, 2.0))"
   ]
  },
  {
   "cell_type": "code",
   "execution_count": 150,
   "metadata": {},
   "outputs": [
    {
     "data": {
      "text/plain": [
       "57527481919522"
      ]
     },
     "execution_count": 150,
     "metadata": {},
     "output_type": "execute_result"
    }
   ],
   "source": [
    "198264970274850 - 2**47"
   ]
  },
  {
   "cell_type": "code",
   "execution_count": 151,
   "metadata": {},
   "outputs": [
    {
     "name": "stdout",
     "output_type": "stream",
     "text": [
      "45.70931655580507\n"
     ]
    }
   ],
   "source": [
    "print(math.log(57527481919522, 2.0))"
   ]
  },
  {
   "cell_type": "code",
   "execution_count": 152,
   "metadata": {},
   "outputs": [
    {
     "data": {
      "text/plain": [
       "22343109830690"
      ]
     },
     "execution_count": 152,
     "metadata": {},
     "output_type": "execute_result"
    }
   ],
   "source": [
    "57527481919522 - 2**45"
   ]
  },
  {
   "cell_type": "code",
   "execution_count": 153,
   "metadata": {},
   "outputs": [
    {
     "name": "stdout",
     "output_type": "stream",
     "text": [
      "44.34489523516133\n"
     ]
    }
   ],
   "source": [
    "print(math.log(22343109830690, 2.0))"
   ]
  },
  {
   "cell_type": "code",
   "execution_count": 154,
   "metadata": {},
   "outputs": [
    {
     "data": {
      "text/plain": [
       "4750923786274"
      ]
     },
     "execution_count": 154,
     "metadata": {},
     "output_type": "execute_result"
    }
   ],
   "source": [
    "22343109830690 - 2**44"
   ]
  },
  {
   "cell_type": "code",
   "execution_count": 155,
   "metadata": {},
   "outputs": [
    {
     "name": "stdout",
     "output_type": "stream",
     "text": [
      "42.11134520204908\n"
     ]
    }
   ],
   "source": [
    "print(math.log(4750923786274, 2.0))"
   ]
  },
  {
   "cell_type": "code",
   "execution_count": 156,
   "metadata": {},
   "outputs": [
    {
     "data": {
      "text/plain": [
       "352877275170"
      ]
     },
     "execution_count": 156,
     "metadata": {},
     "output_type": "execute_result"
    }
   ],
   "source": [
    "4750923786274 - 2**42"
   ]
  },
  {
   "cell_type": "code",
   "execution_count": 157,
   "metadata": {},
   "outputs": [
    {
     "name": "stdout",
     "output_type": "stream",
     "text": [
      "38.36037556921674\n"
     ]
    }
   ],
   "source": [
    "print(math.log(352877275170, 2.0))"
   ]
  },
  {
   "cell_type": "code",
   "execution_count": 158,
   "metadata": {},
   "outputs": [
    {
     "data": {
      "text/plain": [
       "77999368226"
      ]
     },
     "execution_count": 158,
     "metadata": {},
     "output_type": "execute_result"
    }
   ],
   "source": [
    "352877275170 - 2**38"
   ]
  },
  {
   "cell_type": "code",
   "execution_count": 159,
   "metadata": {},
   "outputs": [
    {
     "name": "stdout",
     "output_type": "stream",
     "text": [
      "36.182743387452255\n"
     ]
    }
   ],
   "source": [
    "print(math.log(77999368226, 2.0))"
   ]
  },
  {
   "cell_type": "code",
   "execution_count": 160,
   "metadata": {},
   "outputs": [
    {
     "data": {
      "text/plain": [
       "9279891490"
      ]
     },
     "execution_count": 160,
     "metadata": {},
     "output_type": "execute_result"
    }
   ],
   "source": [
    "77999368226 - 2**36"
   ]
  },
  {
   "cell_type": "code",
   "execution_count": 161,
   "metadata": {},
   "outputs": [
    {
     "name": "stdout",
     "output_type": "stream",
     "text": [
      "33.11146078996905\n"
     ]
    }
   ],
   "source": [
    "print(math.log(9279891490, 2.0))"
   ]
  },
  {
   "cell_type": "code",
   "execution_count": 164,
   "metadata": {},
   "outputs": [
    {
     "data": {
      "text/plain": [
       "689956898"
      ]
     },
     "execution_count": 164,
     "metadata": {},
     "output_type": "execute_result"
    }
   ],
   "source": [
    "9279891490 - 2**33"
   ]
  },
  {
   "cell_type": "code",
   "execution_count": 165,
   "metadata": {},
   "outputs": [
    {
     "name": "stdout",
     "output_type": "stream",
     "text": [
      "29.36193099782461\n"
     ]
    }
   ],
   "source": [
    "print(math.log(689956898, 2.0))"
   ]
  },
  {
   "cell_type": "code",
   "execution_count": 166,
   "metadata": {},
   "outputs": [
    {
     "data": {
      "text/plain": [
       "153085986"
      ]
     },
     "execution_count": 166,
     "metadata": {},
     "output_type": "execute_result"
    }
   ],
   "source": [
    "689956898 - 2**29"
   ]
  },
  {
   "cell_type": "code",
   "execution_count": 167,
   "metadata": {},
   "outputs": [
    {
     "name": "stdout",
     "output_type": "stream",
     "text": [
      "27.189766978881845\n"
     ]
    }
   ],
   "source": [
    "print(math.log(153085986, 2.0))"
   ]
  },
  {
   "cell_type": "code",
   "execution_count": 168,
   "metadata": {},
   "outputs": [
    {
     "data": {
      "text/plain": [
       "18868258"
      ]
     },
     "execution_count": 168,
     "metadata": {},
     "output_type": "execute_result"
    }
   ],
   "source": [
    "153085986 - 2**27"
   ]
  },
  {
   "cell_type": "code",
   "execution_count": 169,
   "metadata": {},
   "outputs": [
    {
     "name": "stdout",
     "output_type": "stream",
     "text": [
      "24.169457897389893\n"
     ]
    }
   ],
   "source": [
    "print(math.log(18868258, 2.0))"
   ]
  },
  {
   "cell_type": "code",
   "execution_count": 170,
   "metadata": {},
   "outputs": [
    {
     "data": {
      "text/plain": [
       "2091042"
      ]
     },
     "execution_count": 170,
     "metadata": {},
     "output_type": "execute_result"
    }
   ],
   "source": [
    "18868258 - 2**24"
   ]
  },
  {
   "cell_type": "code",
   "execution_count": 171,
   "metadata": {},
   "outputs": [
    {
     "name": "stdout",
     "output_type": "stream",
     "text": [
      "20.995790609053287\n"
     ]
    }
   ],
   "source": [
    "print(math.log(2091042, 2.0))"
   ]
  },
  {
   "cell_type": "code",
   "execution_count": 172,
   "metadata": {},
   "outputs": [
    {
     "data": {
      "text/plain": [
       "1042466"
      ]
     },
     "execution_count": 172,
     "metadata": {},
     "output_type": "execute_result"
    }
   ],
   "source": [
    "2091042 - 2**20"
   ]
  },
  {
   "cell_type": "code",
   "execution_count": 173,
   "metadata": {},
   "outputs": [
    {
     "name": "stdout",
     "output_type": "stream",
     "text": [
      "19.99156890030223\n"
     ]
    }
   ],
   "source": [
    "print(math.log(1042466, 2.0))"
   ]
  },
  {
   "cell_type": "code",
   "execution_count": 174,
   "metadata": {},
   "outputs": [
    {
     "data": {
      "text/plain": [
       "518178"
      ]
     },
     "execution_count": 174,
     "metadata": {},
     "output_type": "execute_result"
    }
   ],
   "source": [
    "1042466 - 2**19"
   ]
  },
  {
   "cell_type": "code",
   "execution_count": 175,
   "metadata": {},
   "outputs": [
    {
     "name": "stdout",
     "output_type": "stream",
     "text": [
      "18.98308823954058\n"
     ]
    }
   ],
   "source": [
    "print(math.log(518178, 2.0))"
   ]
  },
  {
   "cell_type": "code",
   "execution_count": 176,
   "metadata": {},
   "outputs": [
    {
     "data": {
      "text/plain": [
       "256034"
      ]
     },
     "execution_count": 176,
     "metadata": {},
     "output_type": "execute_result"
    }
   ],
   "source": [
    "518178 - 2**18"
   ]
  },
  {
   "cell_type": "code",
   "execution_count": 177,
   "metadata": {},
   "outputs": [
    {
     "name": "stdout",
     "output_type": "stream",
     "text": [
      "17.965975879874367\n"
     ]
    }
   ],
   "source": [
    "print(math.log(256034, 2.0))"
   ]
  },
  {
   "cell_type": "code",
   "execution_count": 178,
   "metadata": {},
   "outputs": [
    {
     "data": {
      "text/plain": [
       "124962"
      ]
     },
     "execution_count": 178,
     "metadata": {},
     "output_type": "execute_result"
    }
   ],
   "source": [
    "256034 - 2**17"
   ]
  },
  {
   "cell_type": "code",
   "execution_count": 179,
   "metadata": {},
   "outputs": [
    {
     "name": "stdout",
     "output_type": "stream",
     "text": [
      "16.931129923354177\n"
     ]
    }
   ],
   "source": [
    "print(math.log(124962, 2.0))"
   ]
  },
  {
   "cell_type": "code",
   "execution_count": 180,
   "metadata": {},
   "outputs": [
    {
     "data": {
      "text/plain": [
       "59426"
      ]
     },
     "execution_count": 180,
     "metadata": {},
     "output_type": "execute_result"
    }
   ],
   "source": [
    "124962 - 2**16"
   ]
  },
  {
   "cell_type": "code",
   "execution_count": 181,
   "metadata": {},
   "outputs": [
    {
     "name": "stdout",
     "output_type": "stream",
     "text": [
      "15.858806655090357\n"
     ]
    }
   ],
   "source": [
    "print(math.log(59426, 2.0))"
   ]
  },
  {
   "cell_type": "code",
   "execution_count": 182,
   "metadata": {},
   "outputs": [
    {
     "data": {
      "text/plain": [
       "26658"
      ]
     },
     "execution_count": 182,
     "metadata": {},
     "output_type": "execute_result"
    }
   ],
   "source": [
    "59426 - 2**15"
   ]
  },
  {
   "cell_type": "code",
   "execution_count": 183,
   "metadata": {},
   "outputs": [
    {
     "name": "stdout",
     "output_type": "stream",
     "text": [
      "14.70228092673116\n"
     ]
    }
   ],
   "source": [
    "print(math.log(26658, 2.0))"
   ]
  },
  {
   "cell_type": "code",
   "execution_count": 184,
   "metadata": {},
   "outputs": [
    {
     "data": {
      "text/plain": [
       "10274"
      ]
     },
     "execution_count": 184,
     "metadata": {},
     "output_type": "execute_result"
    }
   ],
   "source": [
    "26658 - 2**14"
   ]
  },
  {
   "cell_type": "code",
   "execution_count": 185,
   "metadata": {},
   "outputs": [
    {
     "name": "stdout",
     "output_type": "stream",
     "text": [
      "13.32671035834696\n"
     ]
    }
   ],
   "source": [
    "print(math.log(10274, 2.0))"
   ]
  },
  {
   "cell_type": "code",
   "execution_count": 186,
   "metadata": {},
   "outputs": [
    {
     "data": {
      "text/plain": [
       "2082"
      ]
     },
     "execution_count": 186,
     "metadata": {},
     "output_type": "execute_result"
    }
   ],
   "source": [
    "10274 - 2**13"
   ]
  },
  {
   "cell_type": "code",
   "execution_count": 187,
   "metadata": {},
   "outputs": [
    {
     "name": "stdout",
     "output_type": "stream",
     "text": [
      "11.023754353299417\n"
     ]
    }
   ],
   "source": [
    "print(math.log(2082, 2.0))"
   ]
  },
  {
   "cell_type": "code",
   "execution_count": 188,
   "metadata": {},
   "outputs": [
    {
     "data": {
      "text/plain": [
       "34"
      ]
     },
     "execution_count": 188,
     "metadata": {},
     "output_type": "execute_result"
    }
   ],
   "source": [
    "2082 - 2**11"
   ]
  },
  {
   "cell_type": "code",
   "execution_count": 189,
   "metadata": {},
   "outputs": [
    {
     "name": "stdout",
     "output_type": "stream",
     "text": [
      "5.08746284125034\n"
     ]
    }
   ],
   "source": [
    "print(math.log(34, 2.0))"
   ]
  },
  {
   "cell_type": "code",
   "execution_count": 190,
   "metadata": {},
   "outputs": [
    {
     "data": {
      "text/plain": [
       "2"
      ]
     },
     "execution_count": 190,
     "metadata": {},
     "output_type": "execute_result"
    }
   ],
   "source": [
    "34 - 2**5"
   ]
  },
  {
   "cell_type": "code",
   "execution_count": null,
   "metadata": {},
   "outputs": [],
   "source": []
  }
 ],
 "metadata": {
  "kernelspec": {
   "display_name": "Python 3",
   "language": "python",
   "name": "python3"
  },
  "language_info": {
   "codemirror_mode": {
    "name": "ipython",
    "version": 3
   },
   "file_extension": ".py",
   "mimetype": "text/x-python",
   "name": "python",
   "nbconvert_exporter": "python",
   "pygments_lexer": "ipython3",
   "version": "3.7.6"
  }
 },
 "nbformat": 4,
 "nbformat_minor": 4
}
