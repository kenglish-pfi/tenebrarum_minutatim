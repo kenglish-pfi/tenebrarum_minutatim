{
 "cells": [
  {
   "cell_type": "code",
   "execution_count": 1,
   "metadata": {
    "collapsed": true
   },
   "outputs": [],
   "source": [
    "import numpy as np\n",
    "import os\n",
    "import sys\n"
   ]
  },
  {
   "cell_type": "code",
   "execution_count": 2,
   "metadata": {
    "collapsed": true
   },
   "outputs": [],
   "source": [
    "sys.path.append('/home/caffe-user/caffe/python/')\n"
   ]
  },
  {
   "cell_type": "code",
   "execution_count": 3,
   "metadata": {
    "collapsed": true
   },
   "outputs": [],
   "source": [
    "import caffe\n"
   ]
  },
  {
   "cell_type": "code",
   "execution_count": 4,
   "metadata": {
    "collapsed": true
   },
   "outputs": [],
   "source": [
    "caffe.set_mode_gpu()\n"
   ]
  },
  {
   "cell_type": "code",
   "execution_count": 5,
   "metadata": {
    "collapsed": true
   },
   "outputs": [],
   "source": [
    "import matplotlib.image as img\n",
    "import matplotlib.pyplot as plt\n",
    "%matplotlib inline\n"
   ]
  },
  {
   "cell_type": "code",
   "execution_count": 6,
   "metadata": {
    "collapsed": true
   },
   "outputs": [],
   "source": [
    "from scipy import signal"
   ]
  },
  {
   "cell_type": "code",
   "execution_count": 7,
   "metadata": {},
   "outputs": [],
   "source": [
    "net = caffe.Net('/home/caffe-user/caffe/models/bvlc_reference_caffenet/deploy.prototxt', '/home/caffe-user/caffe/models/bvlc_reference_caffenet/bvlc_reference_caffenet.caffemodel', caffe.TEST)\n"
   ]
  },
  {
   "cell_type": "code",
   "execution_count": 8,
   "metadata": {
    "collapsed": true
   },
   "outputs": [],
   "source": [
    "transformer = caffe.io.Transformer({'data': net.blobs['data'].data.shape})\n"
   ]
  },
  {
   "cell_type": "code",
   "execution_count": 9,
   "metadata": {
    "collapsed": true
   },
   "outputs": [],
   "source": [
    "# This is from our current code which uses ILSVRC_2012 image set for training\n",
    "# The PlacesNet image set is different\n",
    "trans_model = np.load('/home/caffe-user/caffe/python/caffe/imagenet/ilsvrc_2012_mean.npy')\n"
   ]
  },
  {
   "cell_type": "code",
   "execution_count": 10,
   "metadata": {},
   "outputs": [
    {
     "data": {
      "text/plain": [
       "array([ 104.00698793,  116.66876762,  122.67891434])"
      ]
     },
     "execution_count": 10,
     "metadata": {},
     "output_type": "execute_result"
    }
   ],
   "source": [
    "# the mean of any dataset composed of natural images should be close to [104, 117, 123].\n",
    "# My guess for greyscale is 115 ... \n",
    "trans_model.mean(1).mean(1)\n",
    "\n"
   ]
  },
  {
   "cell_type": "code",
   "execution_count": 11,
   "metadata": {
    "collapsed": true
   },
   "outputs": [],
   "source": [
    "transformer.set_transpose('data', (2, 0, 1))\n",
    "# Values from BlobProto notebook from places205CNN_mean.binaryproto\n",
    "transformer.set_mean('data', trans_model.mean(1).mean(1))\n",
    "transformer.set_raw_scale('data', 255)\n",
    "transformer.set_channel_swap('data', (2, 1, 0))\n"
   ]
  },
  {
   "cell_type": "code",
   "execution_count": 12,
   "metadata": {
    "collapsed": true
   },
   "outputs": [],
   "source": [
    "def myTestFiles():\n",
    "    file_list = []\n",
    "    with open('/downloads/kenglish/data/protest_concert/files.lst', 'r') as f:\n",
    "        for line in f:\n",
    "            fpath = line.rstrip()\n",
    "            file_list.append(fpath)\n",
    "    return file_list"
   ]
  },
  {
   "cell_type": "code",
   "execution_count": 13,
   "metadata": {},
   "outputs": [],
   "source": [
    "# NOTE:  I had to delete corrupted files from the file list\n",
    "files = myTestFiles()\n",
    "net.blobs['data'].reshape(len(files), 3, 227, 227)\n",
    "i = 0\n",
    "for fpath in files:\n",
    "    net.blobs['data'].data[i] = transformer.preprocess('data', caffe.io.load_image(fpath))\n",
    "    i += 1\n"
   ]
  },
  {
   "cell_type": "code",
   "execution_count": 14,
   "metadata": {},
   "outputs": [
    {
     "data": {
      "text/plain": [
       "{'prob': array([[  2.96074109e-06,   1.05774234e-05,   1.10066867e-05, ...,\n",
       "           1.86541479e-06,   9.31652976e-05,   1.10132733e-05],\n",
       "        [  2.31958765e-07,   5.96108111e-06,   8.71833799e-06, ...,\n",
       "           2.25066628e-06,   4.03781160e-05,   3.67437224e-06],\n",
       "        [  1.48275910e-06,   1.07829874e-04,   4.29514557e-06, ...,\n",
       "           1.02066115e-05,   3.94420727e-04,   5.48260141e-05],\n",
       "        ..., \n",
       "        [  7.33461434e-08,   2.29140915e-06,   8.76468278e-07, ...,\n",
       "           3.32213006e-07,   2.56489602e-05,   6.61659487e-06],\n",
       "        [  9.34105415e-08,   5.09251151e-07,   6.98679372e-08, ...,\n",
       "           4.79063829e-08,   5.71175178e-06,   7.25702932e-07],\n",
       "        [  2.46839761e-07,   1.81030136e-05,   2.67839846e-06, ...,\n",
       "           3.18771924e-07,   2.82288529e-04,   1.87977330e-05]], dtype=float32)}"
      ]
     },
     "execution_count": 14,
     "metadata": {},
     "output_type": "execute_result"
    }
   ],
   "source": [
    "net.forward()"
   ]
  },
  {
   "cell_type": "code",
   "execution_count": 15,
   "metadata": {},
   "outputs": [
    {
     "data": {
      "text/plain": [
       "['data',\n",
       " 'conv1',\n",
       " 'pool1',\n",
       " 'norm1',\n",
       " 'conv2',\n",
       " 'pool2',\n",
       " 'norm2',\n",
       " 'conv3',\n",
       " 'conv4',\n",
       " 'conv5',\n",
       " 'pool5',\n",
       " 'fc6',\n",
       " 'fc7',\n",
       " 'fc8',\n",
       " 'prob']"
      ]
     },
     "execution_count": 15,
     "metadata": {},
     "output_type": "execute_result"
    }
   ],
   "source": [
    "net.blobs.keys()"
   ]
  },
  {
   "cell_type": "code",
   "execution_count": 16,
   "metadata": {},
   "outputs": [
    {
     "data": {
      "text/plain": [
       "(1000,)"
      ]
     },
     "execution_count": 16,
     "metadata": {},
     "output_type": "execute_result"
    }
   ],
   "source": [
    "net.blobs['prob'].data[0].shape"
   ]
  },
  {
   "cell_type": "code",
   "execution_count": 17,
   "metadata": {},
   "outputs": [
    {
     "data": {
      "text/plain": [
       "(8.220983e-08, 0.4723458)"
      ]
     },
     "execution_count": 17,
     "metadata": {},
     "output_type": "execute_result"
    }
   ],
   "source": [
    "min(net.blobs['prob'].data[0].flatten()) , max(net.blobs['prob'].data[0].flatten())"
   ]
  },
  {
   "cell_type": "code",
   "execution_count": 26,
   "metadata": {},
   "outputs": [
    {
     "data": {
      "text/plain": [
       "645"
      ]
     },
     "execution_count": 26,
     "metadata": {},
     "output_type": "execute_result"
    }
   ],
   "source": [
    "net.blobs['prob'].data[0].tolist().index(max(net.blobs['prob'].data[0]))"
   ]
  },
  {
   "cell_type": "code",
   "execution_count": 29,
   "metadata": {},
   "outputs": [
    {
     "data": {
      "text/plain": [
       "[0.4723457992076874,\n",
       " 0.0640752986073494,\n",
       " 0.05906721204519272,\n",
       " 0.039067622274160385,\n",
       " 0.019211433827877045]"
      ]
     },
     "execution_count": 29,
     "metadata": {},
     "output_type": "execute_result"
    }
   ],
   "source": [
    "prob_0_list = net.blobs['prob'].data[0].tolist()\n",
    "prod_0_sorted = sorted(prob_0_list, reverse=True)\n",
    "prod_0_sorted[0:5]"
   ]
  },
  {
   "cell_type": "code",
   "execution_count": 19,
   "metadata": {},
   "outputs": [
    {
     "data": {
      "text/plain": [
       "1.0000000613196249"
      ]
     },
     "execution_count": 19,
     "metadata": {},
     "output_type": "execute_result"
    }
   ],
   "source": [
    "# Values in the probs output vector add to 1.0\n",
    "sum(net.blobs['prob'].data[2])"
   ]
  },
  {
   "cell_type": "code",
   "execution_count": 34,
   "metadata": {},
   "outputs": [
    {
     "data": {
      "image/png": "[encoded data removed]",
      "text/plain": [
       "<matplotlib.figure.Figure at 0x7f3ff88538d0>"
      ]
     },
     "metadata": {},
     "output_type": "display_data"
    }
   ],
   "source": [
    "# Output vector of first image\n",
    "scatter_x = range(1000)\n",
    "scatter_y = [ net.blobs['prob'].data[0][i]  for i in scatter_x]\n",
    "plt.scatter(scatter_x, scatter_y)\n",
    "plt.show()"
   ]
  },
  {
   "cell_type": "code",
   "execution_count": 36,
   "metadata": {},
   "outputs": [
    {
     "data": {
      "image/png": "[encoded data removed]",
      "text/plain": [
       "<matplotlib.figure.Figure at 0x7f3ff62701d0>"
      ]
     },
     "metadata": {},
     "output_type": "display_data"
    }
   ],
   "source": [
    "# Average vector of daytime concert cluster\n",
    "ave_DC = sum(net.blobs['prob'].data[0:51])/50.0\n",
    "scatter_x = range(1000)\n",
    "scatter_y = [ave_DC[i]  for i in scatter_x]\n",
    "plt.scatter(scatter_x, scatter_y)\n",
    "plt.show()"
   ]
  },
  {
   "cell_type": "code",
   "execution_count": 37,
   "metadata": {},
   "outputs": [
    {
     "data": {
      "image/png": "[encoded data removed]",
      "text/plain": [
       "<matplotlib.figure.Figure at 0x7f3ff61d25d0>"
      ]
     },
     "metadata": {},
     "output_type": "display_data"
    }
   ],
   "source": [
    "# Maxes of daytime concert cluster\n",
    "max_DC = [ max([ net.blobs['prob'].data[i][j] for i in range(51) ]) for j in range(1000) ] \n",
    "scatter_x = range(1000)\n",
    "scatter_y = [max_DC[i]  for i in scatter_x]\n",
    "plt.scatter(scatter_x, scatter_y)\n",
    "plt.show()"
   ]
  },
  {
   "cell_type": "code",
   "execution_count": 39,
   "metadata": {},
   "outputs": [
    {
     "data": {
      "image/png": "[encoded data removed]",
      "text/plain": [
       "<matplotlib.figure.Figure at 0x7f3ff6079190>"
      ]
     },
     "metadata": {},
     "output_type": "display_data"
    }
   ],
   "source": [
    "# Maxes of daytime concert cluster\n",
    "max_DC = [ max([ net.blobs['prob'].data[i][j] for i in range(51) ]) for j in range(1000) ] \n",
    "scatter_x = range(1000)\n",
    "scatter_y = [max_DC[i]  for i in scatter_x]\n",
    "plt.scatter(scatter_x, scatter_y)\n",
    "# Maxes of daytime protest cluster\n",
    "max_NC = [ max([ net.blobs['prob'].data[i][j] for i in range(51, 100) ]) for j in range(1000) ] \n",
    "scatter_x = range(1000)\n",
    "scatter_y = [max_NC[i]  for i in scatter_x]\n",
    "plt.scatter(scatter_x, scatter_y, color='red')\n",
    "plt.show()"
   ]
  },
  {
   "cell_type": "code",
   "execution_count": 41,
   "metadata": {},
   "outputs": [
    {
     "data": {
      "image/png": "[encoded data removed]",
      "text/plain": [
       "<matplotlib.figure.Figure at 0x7f3ff5e6b410>"
      ]
     },
     "metadata": {},
     "output_type": "display_data"
    }
   ],
   "source": [
    "# Maxes of daytime concert cluster\n",
    "max_DC = [ max([ net.blobs['prob'].data[i][j] for i in range(51) ]) for j in range(1000) ] \n",
    "scatter_x = range(1000)\n",
    "scatter_y = [max_DC[i]  for i in scatter_x]\n",
    "plt.scatter(scatter_x, scatter_y)\n",
    "# Maxes of daytime protest concert cluster\n",
    "max_DP = [ max([ net.blobs['prob'].data[i][j] for i in range(51, 100) ]) for j in range(1000) ] \n",
    "scatter_x = range(1000)\n",
    "scatter_y = [max_DP[i]  for i in scatter_x]\n",
    "plt.scatter(scatter_x, scatter_y, color='red')\n",
    "# Maxes of nighttime concert cluster\n",
    "max_NC = [ max([ net.blobs['prob'].data[i][j] for i in range(100, 150) ]) for j in range(1000) ] \n",
    "scatter_x = range(1000)\n",
    "scatter_y = [max_NC[i]  for i in scatter_x]\n",
    "plt.scatter(scatter_x, scatter_y, color='green')\n",
    "plt.show()"
   ]
  },
  {
   "cell_type": "code",
   "execution_count": 42,
   "metadata": {},
   "outputs": [
    {
     "data": {
      "image/png": "[encoded data removed]",
      "text/plain": [
       "<matplotlib.figure.Figure at 0x7f3ff5e44090>"
      ]
     },
     "metadata": {},
     "output_type": "display_data"
    }
   ],
   "source": [
    "# Maxes of daytime concert cluster\n",
    "max_DC = [ max([ net.blobs['prob'].data[i][j] for i in range(51) ]) for j in range(1000) ] \n",
    "scatter_x = range(1000)\n",
    "scatter_y = [max_DC[i]  for i in scatter_x]\n",
    "plt.scatter(scatter_x, scatter_y)\n",
    "# Maxes of daytime protest concert cluster\n",
    "max_DP = [ max([ net.blobs['prob'].data[i][j] for i in range(51, 100) ]) for j in range(1000) ] \n",
    "scatter_x = range(1000)\n",
    "scatter_y = [max_DP[i]  for i in scatter_x]\n",
    "plt.scatter(scatter_x, scatter_y, color='red')\n",
    "# Maxes of nighttime concert cluster\n",
    "max_NC = [ max([ net.blobs['prob'].data[i][j] for i in range(100, 150) ]) for j in range(1000) ] \n",
    "scatter_x = range(1000)\n",
    "scatter_y = [max_NC[i]  for i in scatter_x]\n",
    "plt.scatter(scatter_x, scatter_y, color='green')\n",
    "# Maxes of nighttime concert cluster\n",
    "max_NP = [ max([ net.blobs['prob'].data[i][j] for i in range(150, 197) ]) for j in range(1000) ] \n",
    "scatter_x = range(1000)\n",
    "scatter_y = [max_NP[i]  for i in scatter_x]\n",
    "plt.scatter(scatter_x, scatter_y, color='gray')\n",
    "plt.show()"
   ]
  },
  {
   "cell_type": "code",
   "execution_count": 43,
   "metadata": {},
   "outputs": [
    {
     "data": {
      "text/plain": [
       "[0.28586233, 0.15587947, 0.03725801, 0.087485425]"
      ]
     },
     "execution_count": 43,
     "metadata": {},
     "output_type": "execute_result"
    }
   ],
   "source": [
    "[ np.dot(net.blobs['prob'].data[0],max_DC), np.dot(net.blobs['prob'].data[0],max_DP), np.dot(net.blobs['prob'].data[0],max_NC), np.dot(net.blobs['prob'].data[0],max_NP) ]"
   ]
  },
  {
   "cell_type": "code",
   "execution_count": 47,
   "metadata": {
    "collapsed": true
   },
   "outputs": [],
   "source": [
    "tags = [\"day_concert\", \"day_protest\", \"night_concert\", \"night_protest\"]\n",
    "def getTag(imageNum):\n",
    "    tag = \"\"\n",
    "    if imageNum < 51:\n",
    "        tag = tags[0]\n",
    "    elif imageNum < 100:\n",
    "        tag = tags[1]\n",
    "    elif imageNum < 150:\n",
    "        tag = tags[2]\n",
    "    else:\n",
    "        tag = tags[3]\n",
    "    return tag\n"
   ]
  },
  {
   "cell_type": "code",
   "execution_count": 51,
   "metadata": {},
   "outputs": [
    {
     "name": "stdout",
     "output_type": "stream",
     "text": [
      "0\tday_concert\tday_concert\t/downloads/kenglish/data/protest_concert/day_concert/images (21).jpg\n",
      "1\tday_concert\tday_concert\t/downloads/kenglish/data/protest_concert/day_concert/Verizon-Wireless-Amphitheater-Irvine.jpg\n",
      "2\tday_concert\tday_concert\t/downloads/kenglish/data/protest_concert/day_concert/images.jpg\n",
      "3\tday_concert\tday_concert\t/downloads/kenglish/data/protest_concert/day_concert/images (2).jpg\n",
      "4\tday_concert\tday_concert\t/downloads/kenglish/data/protest_concert/day_concert/images (22).jpg\n",
      "5\tday_concert\tnight_concert\t/downloads/kenglish/data/protest_concert/day_concert/images (15).jpg\n",
      "6\tday_concert\tnight_concert\t/downloads/kenglish/data/protest_concert/day_concert/NMDConcert_Capitol_3.jpg\n",
      "7\tday_concert\tday_concert\t/downloads/kenglish/data/protest_concert/day_concert/149314031.jpg\n",
      "8\tday_concert\tday_concert\t/downloads/kenglish/data/protest_concert/day_concert/2011_may-day_13038584088229.png\n",
      "9\tday_concert\tday_concert\t/downloads/kenglish/data/protest_concert/day_concert/danielle-bradbery-set-to-headline-memorial-day-concert-11.jpg\n",
      "10\tday_concert\tday_protest\t/downloads/kenglish/data/protest_concert/day_concert/5728bde51c94c.image.jpg\n",
      "11\tday_concert\tday_concert\t/downloads/kenglish/data/protest_concert/day_concert/images (18).jpg\n",
      "12\tday_concert\tday_concert\t/downloads/kenglish/data/protest_concert/day_concert/o.jpg\n",
      "13\tday_concert\tnight_concert\t/downloads/kenglish/data/protest_concert/day_concert/2012GMX_Day3_Outdoor_Major_Stage_Concert.jpg\n",
      "14\tday_concert\tday_protest\t/downloads/kenglish/data/protest_concert/day_concert/danielle-bradbery-set-to-headline-memorial-day-concert-08.jpg\n",
      "15\tday_concert\tnight_concert\t/downloads/kenglish/data/protest_concert/day_concert/images (12).jpg\n",
      "16\tday_concert\tday_concert\t/downloads/kenglish/data/protest_concert/day_concert/140311707.jpg\n",
      "17\tday_concert\tnight_protest\t/downloads/kenglish/data/protest_concert/day_concert/images (4).jpg\n",
      "18\tday_concert\tday_concert\t/downloads/kenglish/data/protest_concert/day_concert/140311641.jpg\n",
      "19\tday_concert\tday_concert\t/downloads/kenglish/data/protest_concert/day_concert/images (20).jpg\n",
      "20\tday_concert\tday_protest\t/downloads/kenglish/data/protest_concert/day_concert/images (16).jpg\n",
      "21\tday_concert\tday_concert\t/downloads/kenglish/data/protest_concert/day_concert/p1201131556-3.jpg\n",
      "22\tday_concert\tday_protest\t/downloads/kenglish/data/protest_concert/day_concert/images (9).jpg\n",
      "23\tday_concert\tnight_concert\t/downloads/kenglish/data/protest_concert/day_concert/img_0499.jpg\n",
      "24\tday_concert\tday_protest\t/downloads/kenglish/data/protest_concert/day_concert/149314077.jpg\n",
      "25\tday_concert\tday_concert\t/downloads/kenglish/data/protest_concert/day_concert/images (7).jpg\n",
      "26\tday_concert\tnight_concert\t/downloads/kenglish/data/protest_concert/day_concert/legends-day-concert-e1432416290565.jpg\n",
      "27\tday_concert\tday_concert\t/downloads/kenglish/data/protest_concert/day_concert/6110820.0.jpg\n",
      "28\tday_concert\tday_concert\t/downloads/kenglish/data/protest_concert/day_concert/o-CONCERT-facebook.jpg\n",
      "29\tday_concert\tnight_concert\t/downloads/kenglish/data/protest_concert/day_concert/images (24).jpg\n",
      "30\tday_concert\tday_protest\t/downloads/kenglish/data/protest_concert/day_concert/images (14).jpg\n",
      "31\tday_concert\tday_concert\t/downloads/kenglish/data/protest_concert/day_concert/140311671.jpg\n",
      "32\tday_concert\tday_concert\t/downloads/kenglish/data/protest_concert/day_concert/maxresdefault.jpg\n",
      "33\tday_concert\tday_concert\t/downloads/kenglish/data/protest_concert/day_concert/140311671 (1).jpg\n",
      "34\tday_concert\tnight_concert\t/downloads/kenglish/data/protest_concert/day_concert/images (10).jpg\n",
      "35\tday_concert\tnight_protest\t/downloads/kenglish/data/protest_concert/day_concert/1.jpg\n",
      "36\tday_concert\tday_concert\t/downloads/kenglish/data/protest_concert/day_concert/danielle-bradbery-set-to-headline-memorial-day-concert-07.jpg\n",
      "37\tday_concert\tday_concert\t/downloads/kenglish/data/protest_concert/day_concert/images (19).jpg\n",
      "38\tday_concert\tday_concert\t/downloads/kenglish/data/protest_concert/day_concert/140311643.jpg\n",
      "39\tday_concert\tday_concert\t/downloads/kenglish/data/protest_concert/day_concert/images (3).jpg\n",
      "40\tday_concert\tnight_protest\t/downloads/kenglish/data/protest_concert/day_concert/images (6).jpg\n",
      "41\tday_concert\tnight_concert\t/downloads/kenglish/data/protest_concert/day_concert/images (17).jpg\n",
      "42\tday_concert\tnight_protest\t/downloads/kenglish/data/protest_concert/day_concert/Audience_on_Memorial_Glade_for_Cold_War_Kids_concert_at_Cal_Day_2010_4.JPG\n",
      "43\tday_concert\tday_protest\t/downloads/kenglish/data/protest_concert/day_concert/images (5).jpg\n",
      "44\tday_concert\tday_concert\t/downloads/kenglish/data/protest_concert/day_concert/images (13).jpg\n",
      "45\tday_concert\tnight_protest\t/downloads/kenglish/data/protest_concert/day_concert/_68734802_tahrirsquare.jpg\n",
      "46\tday_concert\tday_concert\t/downloads/kenglish/data/protest_concert/day_concert/images (11).jpg\n",
      "47\tday_concert\tday_concert\t/downloads/kenglish/data/protest_concert/day_concert/images (1).jpg\n",
      "48\tday_concert\tday_concert\t/downloads/kenglish/data/protest_concert/day_concert/images (23).jpg\n",
      "49\tday_concert\tday_concert\t/downloads/kenglish/data/protest_concert/day_concert/images (8).jpg\n",
      "50\tday_concert\tday_protest\t/downloads/kenglish/data/protest_concert/day_protest/michael-brown-rally-portland-11252014.jpg\n",
      "51\tday_protest\tday_protest\t/downloads/kenglish/data/protest_concert/day_protest/120114-Ferguson-LB.jpg\n",
      "52\tday_protest\tday_protest\t/downloads/kenglish/data/protest_concert/day_protest/517318_Police-Shooting-Missouri.2.jpg\n",
      "53\tday_protest\tday_protest\t/downloads/kenglish/data/protest_concert/day_protest/_77049457_e0ef995e-be90-40ea-b140-9a3d7583ce15.jpg\n",
      "54\tday_protest\tday_protest\t/downloads/kenglish/data/protest_concert/day_protest/images.jpg\n",
      "55\tday_protest\tday_protest\t/downloads/kenglish/data/protest_concert/day_protest/images (2).jpg\n",
      "56\tday_protest\tday_protest\t/downloads/kenglish/data/protest_concert/day_protest/ferguson-st-louis-protest-riots-shooting-4.jpg\n",
      "57\tday_protest\tday_protest\t/downloads/kenglish/data/protest_concert/day_protest/hands-up-dont-shoot.jpg\n",
      "58\tday_protest\tday_protest\t/downloads/kenglish/data/protest_concert/day_protest/ferguson-protest-mlkday_wide-65a9c7f58608daa03f184521fd94812b20b5ea02.jpg\n",
      "59\tday_protest\tday_protest\t/downloads/kenglish/data/protest_concert/day_protest/081914_ferguson_rally_CC3_1.JPG\n",
      "60\tday_protest\tday_protest\t/downloads/kenglish/data/protest_concert/day_protest/238D981E00000578-0-image-2_1417109613278.jpg\n",
      "61\tday_protest\tday_protest\t/downloads/kenglish/data/protest_concert/day_protest/54497e022cdc3.image.jpg\n",
      "62\tday_protest\tday_protest\t/downloads/kenglish/data/protest_concert/day_protest/13797482.jpg\n",
      "63\tday_protest\tday_protest\t/downloads/kenglish/data/protest_concert/day_protest/Racism.jpg\n",
      "64\tday_protest\tday_protest\t/downloads/kenglish/data/protest_concert/day_protest/AR-311269957.jpg\n",
      "65\tday_protest\tday_protest\t/downloads/kenglish/data/protest_concert/day_protest/margaret_marrow.jpg\n",
      "66\tday_protest\tday_protest\t/downloads/kenglish/data/protest_concert/day_protest/Brown_protest_1_cvr_t750x550.jpg\n",
      "67\tday_protest\tday_concert\t/downloads/kenglish/data/protest_concert/day_protest/_76934018_76934017.jpg\n",
      "68\tday_protest\tnight_protest\t/downloads/kenglish/data/protest_concert/day_protest/1407735871000-AP-Police-Shooting-Missouri-002.jpg\n",
      "69\tday_protest\tday_protest\t/downloads/kenglish/data/protest_concert/day_protest/s21USME.jpg\n",
      "70\tday_protest\tday_protest\t/downloads/kenglish/data/protest_concert/day_protest/images (4).jpg\n",
      "71\tday_protest\tday_protest\t/downloads/kenglish/data/protest_concert/day_protest/53ec0bcf8dcc5.image.jpg\n",
      "72\tday_protest\tday_protest\t/downloads/kenglish/data/protest_concert/day_protest/238EACCC00000578-2852132-image-55_1417112044371.jpg\n",
      "73\tday_protest\tday_protest\t/downloads/kenglish/data/protest_concert/day_protest/ss-150810-ferguson-mn-03.nbcnews-ux-1024-900.jpg\n",
      "74\tday_protest\tday_protest\t/downloads/kenglish/data/protest_concert/day_protest/AR-141019925.jpg&Maxw=960&q=75\n",
      "75\tday_protest\tday_protest\t/downloads/kenglish/data/protest_concert/day_protest/ss-150810-ferguson-mn-04.nbcnews-ux-1024-900.jpg\n",
      "76\tday_protest\tday_protest\t/downloads/kenglish/data/protest_concert/day_protest/Police-Shooting-Missouri-Protests-19.jpg\n",
      "77\tday_protest\tday_protest\t/downloads/kenglish/data/protest_concert/day_protest/FERGUSON-master1050.jpg\n",
      "78\tday_protest\tday_protest\t/downloads/kenglish/data/protest_concert/day_protest/palescbtu.JPG\n",
      "79\tday_protest\tday_protest\t/downloads/kenglish/data/protest_concert/day_protest/ALT-PARADE-articleLarge.jpg\n",
      "80\tday_protest\tday_protest\t/downloads/kenglish/data/protest_concert/day_protest/Protest image.jpg\n",
      "81\tday_protest\tday_protest\t/downloads/kenglish/data/protest_concert/day_protest/lead.jpg\n",
      "82\tday_protest\tday_concert\t/downloads/kenglish/data/protest_concert/day_protest/p01-04-09_111203.jpg\n",
      "83\tday_protest\tday_protest\t/downloads/kenglish/data/protest_concert/day_protest/20141129__20141130_A8_ND30FERGUSONJPICp1.jpg\n",
      "84\tday_protest\tday_protest\t/downloads/kenglish/data/protest_concert/day_protest/Bl2koSLCYAAEJYi.jpg\n",
      "85\tday_protest\tday_protest\t/downloads/kenglish/data/protest_concert/day_protest/14940698396_80e1cf357e_k.jpg\n",
      "86\tday_protest\tday_protest\t/downloads/kenglish/data/protest_concert/day_protest/resize.jpg\n",
      "87\tday_protest\tday_protest\t/downloads/kenglish/data/protest_concert/day_protest/boston_common_vigil_peaceful_protest_ferguson_839.jpg\n",
      "88\tday_protest\tday_protest\t/downloads/kenglish/data/protest_concert/day_protest/images (3).jpg\n",
      "89\tday_protest\tnight_concert\t/downloads/kenglish/data/protest_concert/day_protest/20140831_FERGUSON-slide-9I9F-master1050.jpg\n",
      "90\tday_protest\tnight_protest\t/downloads/kenglish/data/protest_concert/day_protest/fergusonmarch2_2014_ijmd5m.jpg\n",
      "91\tday_protest\tday_protest\t/downloads/kenglish/data/protest_concert/day_protest/9.jpg\n",
      "92\tday_protest\tday_protest\t/downloads/kenglish/data/protest_concert/day_protest/-7715a50f35fa6632.JPG\n",
      "93\tday_protest\tday_protest\t/downloads/kenglish/data/protest_concert/day_protest/Ferguson,_Day_4,_Photo_26.png\n",
      "94\tday_protest\tday_protest\t/downloads/kenglish/data/protest_concert/day_protest/peaceful-protests-ferg.jpg\n",
      "95\tday_protest\tday_protest\t/downloads/kenglish/data/protest_concert/day_protest/453643968.jpg.CROP.promovar-mediumlarge.jpg\n",
      "96\tday_protest\tday_protest\t/downloads/kenglish/data/protest_concert/day_protest/239A758100000578-2854363-Journey_for_justice_Demonstrators_start_a_seven_day_march_from_F-7_1417302419054.jpg\n",
      "97\tday_protest\tday_protest\t/downloads/kenglish/data/protest_concert/day_protest/images (1).jpg\n",
      "98\tday_protest\tday_protest\t/downloads/kenglish/data/protest_concert/day_protest/michael-brown-protest-police.jpg\n",
      "99\tday_protest\tnight_concert\t/downloads/kenglish/data/protest_concert/night_concert/images (32).jpg\n",
      "100\tnight_concert\tnight_concert\t/downloads/kenglish/data/protest_concert/night_concert/images (21).jpg\n",
      "101\tnight_concert\tnight_concert\t/downloads/kenglish/data/protest_concert/night_concert/download.jpg\n",
      "102\tnight_concert\tnight_concert\t/downloads/kenglish/data/protest_concert/night_concert/images.jpg\n",
      "103\tnight_concert\tnight_concert\t/downloads/kenglish/data/protest_concert/night_concert/images (2).jpg\n",
      "104\tnight_concert\tnight_concert\t/downloads/kenglish/data/protest_concert/night_concert/images (22).jpg\n",
      "105\tnight_concert\tnight_concert\t/downloads/kenglish/data/protest_concert/night_concert/images (15).jpg\n",
      "106\tnight_concert\tnight_concert\t/downloads/kenglish/data/protest_concert/night_concert/images (37).jpg\n",
      "107\tnight_concert\tnight_concert\t/downloads/kenglish/data/protest_concert/night_concert/images (34).jpg\n",
      "108\tnight_concert\tnight_concert\t/downloads/kenglish/data/protest_concert/night_concert/images (40).jpg\n",
      "109\tnight_concert\tnight_concert\t/downloads/kenglish/data/protest_concert/night_concert/images (27).jpg\n",
      "110\tnight_concert\tnight_concert\t/downloads/kenglish/data/protest_concert/night_concert/images (18).jpg\n",
      "111\tnight_concert\tnight_concert\t/downloads/kenglish/data/protest_concert/night_concert/images (31).jpg\n",
      "112\tnight_concert\tnight_concert\t/downloads/kenglish/data/protest_concert/night_concert/images (28).jpg\n",
      "113\tnight_concert\tnight_concert\t/downloads/kenglish/data/protest_concert/night_concert/images (38).jpg\n",
      "114\tnight_concert\tnight_concert\t/downloads/kenglish/data/protest_concert/night_concert/images (26).jpg\n",
      "115\tnight_concert\tnight_concert\t/downloads/kenglish/data/protest_concert/night_concert/images (36).jpg\n",
      "116\tnight_concert\tnight_concert\t/downloads/kenglish/data/protest_concert/night_concert/images (12).jpg\n",
      "117\tnight_concert\tnight_concert\t/downloads/kenglish/data/protest_concert/night_concert/images (4).jpg\n",
      "118\tnight_concert\tnight_concert\t/downloads/kenglish/data/protest_concert/night_concert/images (25).jpg\n",
      "119\tnight_concert\tday_concert\t/downloads/kenglish/data/protest_concert/night_concert/images (20).jpg\n",
      "120\tnight_concert\tnight_concert\t/downloads/kenglish/data/protest_concert/night_concert/images (16).jpg\n",
      "121\tnight_concert\tnight_concert\t/downloads/kenglish/data/protest_concert/night_concert/images (9).jpg\n",
      "122\tnight_concert\tnight_concert\t/downloads/kenglish/data/protest_concert/night_concert/images (7).jpg\n",
      "123\tnight_concert\tnight_concert\t/downloads/kenglish/data/protest_concert/night_concert/download (2).jpg\n",
      "124\tnight_concert\tnight_concert\t/downloads/kenglish/data/protest_concert/night_concert/images (29).jpg\n",
      "125\tnight_concert\tnight_concert\t/downloads/kenglish/data/protest_concert/night_concert/images (24).jpg\n",
      "126\tnight_concert\tnight_concert\t/downloads/kenglish/data/protest_concert/night_concert/0 (1).jpg\n",
      "127\tnight_concert\tnight_concert\t/downloads/kenglish/data/protest_concert/night_concert/160166101.jpg\n",
      "128\tnight_concert\tnight_concert\t/downloads/kenglish/data/protest_concert/night_concert/images (14).jpg\n",
      "129\tnight_concert\tnight_concert\t/downloads/kenglish/data/protest_concert/night_concert/maxresdefault.jpg\n",
      "130\tnight_concert\tnight_concert\t/downloads/kenglish/data/protest_concert/night_concert/images (10).jpg\n",
      "131\tnight_concert\tnight_concert\t/downloads/kenglish/data/protest_concert/night_concert/0.jpg\n",
      "132\tnight_concert\tnight_concert\t/downloads/kenglish/data/protest_concert/night_concert/images (19).jpg\n",
      "133\tnight_concert\tnight_concert\t/downloads/kenglish/data/protest_concert/night_concert/images (3).jpg\n",
      "134\tnight_concert\tnight_concert\t/downloads/kenglish/data/protest_concert/night_concert/images (41).jpg\n",
      "135\tnight_concert\tnight_concert\t/downloads/kenglish/data/protest_concert/night_concert/images (6).jpg\n",
      "136\tnight_concert\tnight_concert\t/downloads/kenglish/data/protest_concert/night_concert/images (17).jpg\n",
      "137\tnight_concert\tnight_concert\t/downloads/kenglish/data/protest_concert/night_concert/140311685.jpg\n",
      "138\tnight_concert\tnight_concert\t/downloads/kenglish/data/protest_concert/night_concert/images (5).jpg\n",
      "139\tnight_concert\tnight_concert\t/downloads/kenglish/data/protest_concert/night_concert/images (35).jpg\n",
      "140\tnight_concert\tnight_concert\t/downloads/kenglish/data/protest_concert/night_concert/images (39).jpg\n",
      "141\tnight_concert\tnight_concert\t/downloads/kenglish/data/protest_concert/night_concert/download (1).jpg\n",
      "142\tnight_concert\tnight_concert\t/downloads/kenglish/data/protest_concert/night_concert/images (13).jpg\n",
      "143\tnight_concert\tnight_concert\t/downloads/kenglish/data/protest_concert/night_concert/images (11).jpg\n",
      "144\tnight_concert\tnight_concert\t/downloads/kenglish/data/protest_concert/night_concert/images (1).jpg\n",
      "145\tnight_concert\tnight_concert\t/downloads/kenglish/data/protest_concert/night_concert/images (33).jpg\n",
      "146\tnight_concert\tnight_concert\t/downloads/kenglish/data/protest_concert/night_concert/images (30).jpg\n",
      "147\tnight_concert\tnight_concert\t/downloads/kenglish/data/protest_concert/night_concert/images (23).jpg\n",
      "148\tnight_concert\tnight_concert\t/downloads/kenglish/data/protest_concert/night_concert/images (8).jpg\n",
      "149\tnight_concert\tnight_protest\t/downloads/kenglish/data/protest_concert/night_protest/237E084E00000578-2849608-Don_t_shoot_A_protestor_poses_for_a_hands_up_photo_in_front_of_a-18_1416962801713.jpg\n",
      "150\tnight_protest\tnight_protest\t/downloads/kenglish/data/protest_concert/night_protest/article-0-1CAF513600000578-876_634x392.jpg\n",
      "151\tnight_protest\tnight_concert\t/downloads/kenglish/data/protest_concert/night_protest/images.jpg\n",
      "152\tnight_protest\tnight_protest\t/downloads/kenglish/data/protest_concert/night_protest/images (2).jpg\n",
      "153\tnight_protest\tnight_protest\t/downloads/kenglish/data/protest_concert/night_protest/alg-oakland-jpg.jpg\n",
      "154\tnight_protest\tnight_protest\t/downloads/kenglish/data/protest_concert/night_protest/140819_POL_Ferguson-Journalist0819.jpg.CROP.promo-mediumlarge.jpg\n",
      "155\tnight_protest\tnight_protest\t/downloads/kenglish/data/protest_concert/night_protest/demonstrators-protest-michael-brown-fatal-shooting.jpg\n",
      "156\tnight_protest\tnight_protest\t/downloads/kenglish/data/protest_concert/night_protest/web1_AP16266058394521a.jpg\n",
      "157\tnight_protest\tnight_concert\t/downloads/kenglish/data/protest_concert/night_protest/ferguson-missouri.jpg\n",
      "158\tnight_protest\tnight_protest\t/downloads/kenglish/data/protest_concert/night_protest/_79247850_79247849.jpg\n",
      "159\tnight_protest\tnight_concert\t/downloads/kenglish/data/protest_concert/night_protest/5743716235_48102ba4ed_b.jpg\n",
      "160\tnight_protest\tnight_protest\t/downloads/kenglish/data/protest_concert/night_protest/140814_POL_Ferguson_06.jpg.CROP.original-original.jpg\n",
      "161\tnight_protest\tnight_protest\t/downloads/kenglish/data/protest_concert/night_protest/phoenix protsters.jpg\n",
      "162\tnight_protest\tnight_protest\t/downloads/kenglish/data/protest_concert/night_protest/296FAEF200000578-3114810-Trouble_Riot_police_respond_to_trouble_outside_the_MetLife_Stadi-a-35_1433765903016.jpg\n",
      "163\tnight_protest\tnight_protest\t/downloads/kenglish/data/protest_concert/night_protest/AP185066849357.jpg\n",
      "164\tnight_protest\tnight_concert\t/downloads/kenglish/data/protest_concert/night_protest/images (4).jpg\n",
      "165\tnight_protest\tnight_concert\t/downloads/kenglish/data/protest_concert/night_protest/https---blueprint-api-production.s3.amazonaws.com-uploads-card-image-218217-AP_16265443008872.jpg\n",
      "166\tnight_protest\tnight_protest\t/downloads/kenglish/data/protest_concert/night_protest/143384_FergusonReact_1570_mh.jpg\n",
      "167\tnight_protest\tnight_protest\t/downloads/kenglish/data/protest_concert/night_protest/Police-officers-point-their-weapons-at-demonstrators-protesting-against-the-shooting-death-of-Michael-Brown-in-Ferguson-Missouri-August-18-2014.-REUTERS_Joshua-Lott-800x430.jpg\n",
      "168\tnight_protest\tday_protest\t/downloads/kenglish/data/protest_concert/night_protest/Ferguson_Bing.jpg\n",
      "169\tnight_protest\tnight_protest\t/downloads/kenglish/data/protest_concert/night_protest/150315144531-01-ferguson-0315-exlarge-169.jpg\n",
      "170\tnight_protest\tday_protest\t/downloads/kenglish/data/protest_concert/night_protest/609632678.jpg\n",
      "171\tnight_protest\tnight_concert\t/downloads/kenglish/data/protest_concert/night_protest/images (7).jpg\n",
      "172\tnight_protest\tnight_protest\t/downloads/kenglish/data/protest_concert/night_protest/46946022.cached.jpg\n",
      "173\tnight_protest\tnight_concert\t/downloads/kenglish/data/protest_concert/night_protest/140819_POL_Ferguson-0818.jpg.CROP.original-original.jpg\n",
      "174\tnight_protest\tnight_protest\t/downloads/kenglish/data/protest_concert/night_protest/BN-FS560_1125fe_M_20141125082217.jpg\n",
      "175\tnight_protest\tnight_concert\t/downloads/kenglish/data/protest_concert/night_protest/la-na-nn-ferguson-protest-police-20140815.jpg\n",
      "176\tnight_protest\tnight_protest\t/downloads/kenglish/data/protest_concert/night_protest/ferguson-protests.jpg\n",
      "177\tnight_protest\tnight_concert\t/downloads/kenglish/data/protest_concert/night_protest/WEB_PHOTO_FERGUSON_OAKLAND_25112014.jpg\n",
      "178\tnight_protest\tnight_protest\t/downloads/kenglish/data/protest_concert/night_protest/charlotte-1-620x414.jpg\n",
      "179\tnight_protest\tnight_concert\t/downloads/kenglish/data/protest_concert/night_protest/1.jpg\n",
      "180\tnight_protest\tnight_concert\t/downloads/kenglish/data/protest_concert/night_protest/pemnnstateriots2_centredailynews.jpg\n",
      "181\tnight_protest\tnight_protest\t/downloads/kenglish/data/protest_concert/night_protest/unnamed.jpg\n",
      "182\tnight_protest\tnight_protest\t/downloads/kenglish/data/protest_concert/night_protest/images (3).jpg\n",
      "183\tnight_protest\tday_protest\t/downloads/kenglish/data/protest_concert/night_protest/images (6).jpg\n",
      "184\tnight_protest\tnight_concert\t/downloads/kenglish/data/protest_concert/night_protest/ohio-state.jpg\n",
      "185\tnight_protest\tnight_protest\t/downloads/kenglish/data/protest_concert/night_protest/o-KENTUCKY-FANS-GATHERED-LEXINGTON-570.jpg\n",
      "186\tnight_protest\tday_protest\t/downloads/kenglish/data/protest_concert/night_protest/images (5).jpg\n",
      "187\tnight_protest\tnight_protest\t/downloads/kenglish/data/protest_concert/night_protest/BN-EE731_0820pr_G_20140820151224.jpg\n",
      "188\tnight_protest\tday_protest\t/downloads/kenglish/data/protest_concert/night_protest/453768712.jpg\n",
      "189\tnight_protest\tnight_protest\t/downloads/kenglish/data/protest_concert/night_protest/F1060E43-18E9-4F94-9132-BC8514B7DF29_w987_r1_s.jpg\n",
      "190\tnight_protest\tnight_concert\t/downloads/kenglish/data/protest_concert/night_protest/ferguson.jpg\n",
      "191\tnight_protest\tnight_concert\t/downloads/kenglish/data/protest_concert/night_protest/1408198536001-AP-Police-Shooting-Missouri1.jpg\n",
      "192\tnight_protest\tday_protest\t/downloads/kenglish/data/protest_concert/night_protest/o-KENTUCKY-FANS-LEXINGTON-APRIL-570.jpg\n",
      "193\tnight_protest\tnight_protest\t/downloads/kenglish/data/protest_concert/night_protest/Ferguson.jpg\n",
      "194\tnight_protest\tnight_protest\t/downloads/kenglish/data/protest_concert/night_protest/images (1).jpg\n",
      "195\tnight_protest\tnight_protest\t/downloads/kenglish/data/protest_concert/night_protest/453807546-law-enforcement-officers-watch-on-during-a-protest-on.jpg.CROP.promovar-mediumlarge.jpg\n",
      "196\tnight_protest\tnight_concert\t/downloads/kenglish/data/protest_concert/night_protest/demonstrators-protest-the-shooting-death-of-teenager-michael-brown-in-ferguson-missouri.jpg\n"
     ]
    }
   ],
   "source": [
    "for i in range(197):\n",
    "    A = [ np.dot(net.blobs['prob'].data[i],max_DC), np.dot(net.blobs['prob'].data[i],max_DP), np.dot(net.blobs['prob'].data[i],max_NC), np.dot(net.blobs['prob'].data[i],max_NP) ]    \n",
    "    B = [ (A[j], j) for j in range(4) ]\n",
    "    B.sort(reverse=True)\n",
    "    tup = B[0]\n",
    "    print str(i) + '\\t' + getTag(i) + '\\t' + tags[tup[1]] + '\\t' + files[i]"
   ]
  },
  {
   "cell_type": "code",
   "execution_count": 33,
   "metadata": {},
   "outputs": [
    {
     "data": {
      "image/png": "[encoded data removed]",
      "text/plain": [
       "<matplotlib.figure.Figure at 0x7f3ff639b950>"
      ]
     },
     "metadata": {},
     "output_type": "display_data"
    }
   ],
   "source": [
    "# Image 0 has most of its probability in bucket 645 (\"n03733131 maypole\")\n",
    "# Plot output bucket 645 probability (y-axis) for each picture (x-axis)\n",
    "# We see there is one other picture that also aligned with \"maypole\"\n",
    "scatter_x = range(len(net.blobs['prob'].data))\n",
    "scatter_y = [ net.blobs['prob'].data[i][645]  for i in scatter_x]\n",
    "plt.scatter(scatter_x, scatter_y)\n",
    "plt.show()"
   ]
  },
  {
   "cell_type": "code",
   "execution_count": 20,
   "metadata": {},
   "outputs": [
    {
     "data": {
      "text/plain": [
       "0.011074974"
      ]
     },
     "execution_count": 20,
     "metadata": {},
     "output_type": "execute_result"
    }
   ],
   "source": [
    "np.dot(net.blobs['prob'].data[0],net.blobs['prob'].data[1])"
   ]
  },
  {
   "cell_type": "code",
   "execution_count": 21,
   "metadata": {
    "collapsed": true
   },
   "outputs": [],
   "source": [
    "def dist(V, W, scale):\n",
    "    D = (W.flatten() - V.flatten()) / scale\n",
    "    return np.dot(D, D)/np.prod(V.shape)"
   ]
  },
  {
   "cell_type": "code",
   "execution_count": 23,
   "metadata": {},
   "outputs": [
    {
     "data": {
      "text/plain": [
       "8.5692488482891353e-10"
      ]
     },
     "execution_count": 23,
     "metadata": {},
     "output_type": "execute_result"
    }
   ],
   "source": [
    "dist(net.blobs['prob'].data[0],net.blobs['prob'].data[1], (1000))"
   ]
  },
  {
   "cell_type": "code",
   "execution_count": 24,
   "metadata": {},
   "outputs": [
    {
     "data": {
      "text/plain": [
       "7.4589900123100964e-10"
      ]
     },
     "execution_count": 24,
     "metadata": {},
     "output_type": "execute_result"
    }
   ],
   "source": [
    "dist(net.blobs['prob'].data[0],net.blobs['prob'].data[190], (1000))"
   ]
  },
  {
   "cell_type": "code",
   "execution_count": null,
   "metadata": {
    "collapsed": true
   },
   "outputs": [],
   "source": []
  },
  {
   "cell_type": "code",
   "execution_count": 26,
   "metadata": {},
   "outputs": [],
   "source": [
    "imageId_by_tag = {}\n",
    "for i in range(len(net.blobs['prob'].data)):\n",
    "    tag = getTag(i)\n",
    "    if tag not in imageId_by_tag:\n",
    "        imageId_by_tag[tag] = []\n",
    "    imageId_by_tag[tag].append(i)\n",
    "    \n",
    "cluster_conv3_by_tag = {}\n",
    "for tag in imageId_by_tag:\n",
    "    cluster_conv3_by_tag[tag] = np.zeros(net.blobs['prob'].data[0].shape)\n",
    "    for id in imageId_by_tag[tag]:\n",
    "        for feat_id in range(len(net.blobs['prob'].data[id])):\n",
    "            cluster_conv3_by_tag[tag][feat_id] += net.blobs['prob'].data[id][feat_id]\n",
    "        cluster_conv3_by_tag[tag][feat_id] *= (1.0/len(imageId_by_tag[tag]))"
   ]
  },
  {
   "cell_type": "code",
   "execution_count": null,
   "metadata": {
    "collapsed": true
   },
   "outputs": [],
   "source": []
  }
 ],
 "metadata": {
  "kernelspec": {
   "display_name": "Python 3",
   "language": "python",
   "name": "python3"
  },
  "language_info": {
   "codemirror_mode": {
    "name": "ipython",
    "version": 3
   },
   "file_extension": ".py",
   "mimetype": "text/x-python",
   "name": "python",
   "nbconvert_exporter": "python",
   "pygments_lexer": "ipython3",
   "version": "3.6.1"
  }
 },
 "nbformat": 4,
 "nbformat_minor": 1
}
